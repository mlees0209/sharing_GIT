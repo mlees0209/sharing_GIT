{
 "cells": [
  {
   "cell_type": "markdown",
   "metadata": {},
   "source": [
    "# Earth's Elastic Response to a Circular Load (eg Kaweah Lake)\n",
    "\n",
    "This notebook does the quick analytic solution of circular loading, intended to represent the situation at Kaweah Lake.\n",
    "\n",
    "## Theory\n",
    "\n",
    "For a disk load of unit weight (force), the solution from Farrell 72 is:\n",
    "    \n",
    "\\begin{equation}\n",
    "u(0,r) =\n",
    "    \\begin{cases}\n",
    "    -\\frac{\\sigma}{\\pi^2\\mu\\eta \\alpha} E\\big(\\frac{r}{\n",
    "    \\alpha} \\big) & r < \\alpha \\\\\n",
    "    -\\frac{\\sigma r}{\\pi^2\\mu\\eta \\alpha^2} \\Big\\lbrack E\\big(\\frac{\\alpha}{\n",
    "    r}\\big) - \\big( 1 - \\frac{\\alpha^2}{r^2} K\\big(\\frac{\\alpha}{r}\\big) \\Big\\rbrack & r > \\alpha\n",
    "    \\end{cases}\n",
    "\\end{equation}\n",
    "\n",
    "where $E(x)$ and $K(x)$ are the complete elliptic integrals, which are a special function commonly tabulated (and included in scipy). As for constants, $\\mu$ is the shear modulus, $\\lambda$ is Lame's first parameter, $\\eta = \\mu + \\lambda$ and $\\alpha$ is the disk radius.\n"
   ]
  },
  {
   "cell_type": "code",
   "execution_count": 30,
   "metadata": {},
   "outputs": [],
   "source": [
    "#!/usr/bin/env python3\n",
    "# -*- coding: utf-8 -*-\n",
    "\n",
    "import numpy as np\n",
    "from scipy import special\n",
    "import matplotlib.pyplot as plt\n",
    "import seaborn as sns\n",
    "\n",
    "g = 9.81\n",
    "lamda_gran = 25*10**9\n",
    "mew_gran = 40*10**9\n",
    "g = 9.81\n",
    "alpha_Kaweah=1.25*10**3\n",
    "M_kaweah = 0.1968\n",
    "\n",
    "def calc_deformation_2Ddisk(M):\n",
    "    ''' Calculates the deformation for a disk of mass M and radius alpha, on top of a substrate with Lame parameter lambda and shear modulus mew. R should be a meshgrid(r).'''\n",
    "    x = np.linspace(-7*10**3,7*10**3,num=1000)\n",
    "    X,Y= np.meshgrid(x,x)\n",
    "    R = np.sqrt(X**2 + Y**2)\n",
    "\n",
    "    M = M*10**12\n",
    "    \n",
    "    lamda = 25*10**9\n",
    "    mew = 40*10**9\n",
    "    g = 9.81\n",
    "    alpha=1.25*10**3\n",
    "\n",
    "    sigma=lamda+2*mew\n",
    "    nabla=lamda + mew\n",
    "    \n",
    "    defm=np.zeros_like(R)\n",
    "        \n",
    "    defm[R<=alpha]=-M*g* (sigma/(np.pi**2 * mew * nabla * alpha) * special.ellipe((R[np.less_equal(R,alpha)]/alpha)**2) )\n",
    "    \n",
    "    defm[R>=alpha]= -M *g* (sigma* R[np.greater_equal(R,alpha)] / (np.pi**2 * mew * nabla * alpha**2)) * (special.ellipe((alpha/R[np.greater_equal(R,alpha)])**2) - (1 - (alpha/R[np.greater_equal(R,alpha)])**2) * special.ellipk((alpha/R[np.greater_equal(R,alpha)])**2)) \n",
    "    \n",
    "    plt.figure()\n",
    "    plt.contourf(X/1000,Y/1000,defm*1000,cmap='bwr', levels=np.linspace(-20,20,num=21))\n",
    "    cbar=plt.colorbar()\n",
    "    cbar.set_label('Deformation / mm')\n",
    "    plt.xlabel('Distance /km')\n",
    "    plt.ylabel('Distance /km')\n",
    "\n",
    "    plt.show()\n",
    "\n"
   ]
  },
  {
   "cell_type": "code",
   "execution_count": 33,
   "metadata": {},
   "outputs": [
    {
     "data": {
      "text/html": [
       "\n",
       "<style>\n",
       "    div#notebook-container    { width: 95%; }\n",
       "    div#menubar-container     { width: 65%; }\n",
       "    div#maintoolbar-container { width: 99%; }\n",
       "</style>\n"
      ],
      "text/plain": [
       "<IPython.core.display.HTML object>"
      ]
     },
     "metadata": {},
     "output_type": "display_data"
    },
    {
     "data": {
      "application/vnd.jupyter.widget-view+json": {
       "model_id": "cfa04c9d7cbb411d9a6de1aa5b90386b",
       "version_major": 2,
       "version_minor": 0
      },
      "text/plain": [
       "interactive(children=(FloatSlider(value=0.1968, description='Mass / GT', max=0.3936, step=0.01), Output()), _d…"
      ]
     },
     "metadata": {},
     "output_type": "display_data"
    },
    {
     "data": {
      "text/plain": [
       "<function __main__.calc_deformation_2Ddisk(M)>"
      ]
     },
     "execution_count": 33,
     "metadata": {},
     "output_type": "execute_result"
    }
   ],
   "source": [
    "%matplotlib inline\n",
    "from ipywidgets import interact_manual\n",
    "from ipywidgets import interact, interactive, fixed, interact_manual\n",
    "import ipywidgets as widgets\n",
    "\n",
    "from IPython.display import display, HTML\n",
    "\n",
    "display(HTML(data=\"\"\"\n",
    "<style>\n",
    "    div#notebook-container    { width: 95%; }\n",
    "    div#menubar-container     { width: 65%; }\n",
    "    div#maintoolbar-container { width: 99%; }\n",
    "</style>\n",
    "\"\"\"))\n",
    "\n",
    "\n",
    "interactive_plot = interact(calc_deformation_2Ddisk, M=widgets.FloatSlider(min=0,max=2*M_kaweah,value=M_kaweah,step=0.01, description=\"Mass / GT\"))\n",
    "\n",
    "display(interactive_plot)"
   ]
  }
 ],
 "metadata": {
  "kernelspec": {
   "display_name": "Python 3",
   "language": "python",
   "name": "python3"
  },
  "language_info": {
   "codemirror_mode": {
    "name": "ipython",
    "version": 3
   },
   "file_extension": ".py",
   "mimetype": "text/x-python",
   "name": "python",
   "nbconvert_exporter": "python",
   "pygments_lexer": "ipython3",
   "version": "3.7.1"
  }
 },
 "nbformat": 4,
 "nbformat_minor": 2
}

<html><head>


<!-- Load require.js. Delete this if your page already loads require.js -->
<script src="https://cdnjs.cloudflare.com/ajax/libs/require.js/2.3.4/require.min.js" integrity="sha256-Ae2Vz/4ePdIu6ZyI/5ZGsYnb+m0JlOmKPjt6XZ9JJkA=" crossorigin="anonymous"></script>
<script src="https://unpkg.com/@jupyter-widgets/html-manager@*/dist/embed-amd.js" crossorigin="anonymous"></script>
<script type="application/vnd.jupyter.widget-state+json">
{
    "version_major": 2,
    "version_minor": 0,
    "state": {
        "bd4a1a27b51c483986c4983fede3ea89": {
            "model_name": "LayoutModel",
            "model_module": "@jupyter-widgets/base",
            "model_module_version": "1.1.0",
            "state": {}
        },
        "48d3679911b744328d31c0e4900f4b1e": {
            "model_name": "VBoxModel",
            "model_module": "@jupyter-widgets/controls",
            "model_module_version": "1.4.0",
            "state": {
                "_dom_classes": [
                    "widget-interact"
                ],
                "children": [
                    "IPY_MODEL_863c8e1a87ff4a4d9a85ef4697e3892c",
                    "IPY_MODEL_9317236f1cbb474892231863af1b33e9",
                    "IPY_MODEL_8c9f99a8f00145cfac215b3e5d5deb53"
                ],
                "layout": "IPY_MODEL_bd4a1a27b51c483986c4983fede3ea89"
            }
        },
        "2291cea00f924aa4965b87219a548cc5": {
            "model_name": "LayoutModel",
            "model_module": "@jupyter-widgets/base",
            "model_module_version": "1.1.0",
            "state": {}
        },
        "1cb08e92ba464d7593e6f76c91997954": {
            "model_name": "DescriptionStyleModel",
            "model_module": "@jupyter-widgets/controls",
            "model_module_version": "1.4.0",
            "state": {
                "description_width": ""
            }
        },
        "863c8e1a87ff4a4d9a85ef4697e3892c": {
            "model_name": "DropdownModel",
            "model_module": "@jupyter-widgets/controls",
            "model_module_version": "1.4.0",
            "state": {
                "_options_labels": [
                    "0.0",
                    "8032653061.22449",
                    "16065306122.44898",
                    "24097959183.67347",
                    "32130612244.89796",
                    "40163265306.12245",
                    "48195918367.34694",
                    "56228571428.571434",
                    "64261224489.79592",
                    "72293877551.02042",
                    "80326530612.2449",
                    "88359183673.46939",
                    "96391836734.69388",
                    "104424489795.91837",
                    "112457142857.14287",
                    "120489795918.36736",
                    "128522448979.59184",
                    "136555102040.81633",
                    "144587755102.04083",
                    "152620408163.26532",
                    "160653061224.4898",
                    "168685714285.7143",
                    "176718367346.93878",
                    "184751020408.16327",
                    "192783673469.38776",
                    "200816326530.61224",
                    "208848979591.83673",
                    "216881632653.06125",
                    "224914285714.28574",
                    "232946938775.51022",
                    "240979591836.7347",
                    "249012244897.9592",
                    "257044897959.1837",
                    "265077551020.40817",
                    "273110204081.63266",
                    "281142857142.8572",
                    "289175510204.08167",
                    "297208163265.30615",
                    "305240816326.53064",
                    "313273469387.7551",
                    "321306122448.9796",
                    "329338775510.2041",
                    "337371428571.4286",
                    "345404081632.6531",
                    "353436734693.87756",
                    "361469387755.10205",
                    "369502040816.32654",
                    "377534693877.551",
                    "385567346938.7755",
                    "393600000000.0"
                ],
                "description": "M",
                "index": 49,
                "layout": "IPY_MODEL_2291cea00f924aa4965b87219a548cc5",
                "style": "IPY_MODEL_1cb08e92ba464d7593e6f76c91997954"
            }
        },
        "f3f1211a0b7b4c159cfe434a4bc83961": {
            "model_name": "LayoutModel",
            "model_module": "@jupyter-widgets/base",
            "model_module_version": "1.1.0",
            "state": {}
        },
        "a8942c124d4240c78b44e38182cf46bc": {
            "model_name": "ButtonStyleModel",
            "model_module": "@jupyter-widgets/controls",
            "model_module_version": "1.4.0",
            "state": {}
        },
        "9317236f1cbb474892231863af1b33e9": {
            "model_name": "ButtonModel",
            "model_module": "@jupyter-widgets/controls",
            "model_module_version": "1.4.0",
            "state": {
                "description": "Run Interact",
                "layout": "IPY_MODEL_f3f1211a0b7b4c159cfe434a4bc83961",
                "style": "IPY_MODEL_a8942c124d4240c78b44e38182cf46bc"
            }
        },
        "d43f18eee3854e618d404799a8704d2b": {
            "model_name": "LayoutModel",
            "model_module": "@jupyter-widgets/base",
            "model_module_version": "1.1.0",
            "state": {}
        },
        "8c9f99a8f00145cfac215b3e5d5deb53": {
            "model_name": "OutputModel",
            "model_module": "@jupyter-widgets/output",
            "model_module_version": "1.0.0",
            "state": {
                "layout": "IPY_MODEL_d43f18eee3854e618d404799a8704d2b",
                "outputs": [
                    {
                        "output_type": "display_data",
                        "data": {
                            "text/plain": "<Figure size 432x288 with 2 Axes>",
                            "image/png": "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\n"
                        },
                        "metadata": {
                            "needs_background": "light"
                        }
                    },
                    {
                        "output_type": "display_data",
                        "data": {
                            "text/plain": "array([[-0.00125599, -0.00125726, -0.00125852, ..., -0.00125852,\n        -0.00125726, -0.00125599],\n       [-0.00125726, -0.00125852, -0.00125979, ..., -0.00125979,\n        -0.00125852, -0.00125726],\n       [-0.00125852, -0.00125979, -0.00126106, ..., -0.00126106,\n        -0.00125979, -0.00125852],\n       ...,\n       [-0.00125852, -0.00125979, -0.00126106, ..., -0.00126106,\n        -0.00125979, -0.00125852],\n       [-0.00125726, -0.00125852, -0.00125979, ..., -0.00125979,\n        -0.00125852, -0.00125726],\n       [-0.00125599, -0.00125726, -0.00125852, ..., -0.00125852,\n        -0.00125726, -0.00125599]])"
                        },
                        "metadata": {}
                    }
                ]
            }
        },
        "232e13ddd61749c29d31143884e5e764": {
            "model_name": "LayoutModel",
            "model_module": "@jupyter-widgets/base",
            "model_module_version": "1.1.0",
            "state": {}
        },
        "1c1c3abe3c0c496e885b91c6baefbcc1": {
            "model_name": "VBoxModel",
            "model_module": "@jupyter-widgets/controls",
            "model_module_version": "1.4.0",
            "state": {
                "_dom_classes": [
                    "widget-interact"
                ],
                "children": [
                    "IPY_MODEL_685703f0c51a418883cb5f9e767d9120",
                    "IPY_MODEL_f00331d457894a289aa11444293b89b3"
                ],
                "layout": "IPY_MODEL_232e13ddd61749c29d31143884e5e764"
            }
        },
        "26798621b39e4f7eb060c118dbe521e6": {
            "model_name": "LayoutModel",
            "model_module": "@jupyter-widgets/base",
            "model_module_version": "1.1.0",
            "state": {}
        },
        "fd60e26e91e94acdb0020296eaa6bc28": {
            "model_name": "DescriptionStyleModel",
            "model_module": "@jupyter-widgets/controls",
            "model_module_version": "1.4.0",
            "state": {
                "description_width": ""
            }
        },
        "685703f0c51a418883cb5f9e767d9120": {
            "model_name": "DropdownModel",
            "model_module": "@jupyter-widgets/controls",
            "model_module_version": "1.4.0",
            "state": {
                "_options_labels": [
                    "0.0",
                    "8032653061.22449",
                    "16065306122.44898",
                    "24097959183.67347",
                    "32130612244.89796",
                    "40163265306.12245",
                    "48195918367.34694",
                    "56228571428.571434",
                    "64261224489.79592",
                    "72293877551.02042",
                    "80326530612.2449",
                    "88359183673.46939",
                    "96391836734.69388",
                    "104424489795.91837",
                    "112457142857.14287",
                    "120489795918.36736",
                    "128522448979.59184",
                    "136555102040.81633",
                    "144587755102.04083",
                    "152620408163.26532",
                    "160653061224.4898",
                    "168685714285.7143",
                    "176718367346.93878",
                    "184751020408.16327",
                    "192783673469.38776",
                    "200816326530.61224",
                    "208848979591.83673",
                    "216881632653.06125",
                    "224914285714.28574",
                    "232946938775.51022",
                    "240979591836.7347",
                    "249012244897.9592",
                    "257044897959.1837",
                    "265077551020.40817",
                    "273110204081.63266",
                    "281142857142.8572",
                    "289175510204.08167",
                    "297208163265.30615",
                    "305240816326.53064",
                    "313273469387.7551",
                    "321306122448.9796",
                    "329338775510.2041",
                    "337371428571.4286",
                    "345404081632.6531",
                    "353436734693.87756",
                    "361469387755.10205",
                    "369502040816.32654",
                    "377534693877.551",
                    "385567346938.7755",
                    "393600000000.0"
                ],
                "description": "M",
                "index": 0,
                "layout": "IPY_MODEL_26798621b39e4f7eb060c118dbe521e6",
                "style": "IPY_MODEL_fd60e26e91e94acdb0020296eaa6bc28"
            }
        },
        "084724b24efa42bcb563760d39550748": {
            "model_name": "LayoutModel",
            "model_module": "@jupyter-widgets/base",
            "model_module_version": "1.1.0",
            "state": {}
        },
        "f00331d457894a289aa11444293b89b3": {
            "model_name": "OutputModel",
            "model_module": "@jupyter-widgets/output",
            "model_module_version": "1.0.0",
            "state": {
                "layout": "IPY_MODEL_084724b24efa42bcb563760d39550748",
                "outputs": [
                    {
                        "output_type": "error",
                        "ename": "ValueError",
                        "evalue": "Contour levels must be increasing",
                        "traceback": [
                            "\u001b[0;31m---------------------------------------------------------------------------\u001b[0m",
                            "\u001b[0;31mValueError\u001b[0m                                Traceback (most recent call last)",
                            "\u001b[0;32m~/anaconda3/lib/python3.7/site-packages/ipywidgets/widgets/interaction.py\u001b[0m in \u001b[0;36mupdate\u001b[0;34m(self, *args)\u001b[0m\n\u001b[1;32m    249\u001b[0m                     \u001b[0mvalue\u001b[0m \u001b[0;34m=\u001b[0m \u001b[0mwidget\u001b[0m\u001b[0;34m.\u001b[0m\u001b[0mget_interact_value\u001b[0m\u001b[0;34m(\u001b[0m\u001b[0;34m)\u001b[0m\u001b[0;34m\u001b[0m\u001b[0;34m\u001b[0m\u001b[0m\n\u001b[1;32m    250\u001b[0m                     \u001b[0mself\u001b[0m\u001b[0;34m.\u001b[0m\u001b[0mkwargs\u001b[0m\u001b[0;34m[\u001b[0m\u001b[0mwidget\u001b[0m\u001b[0;34m.\u001b[0m\u001b[0m_kwarg\u001b[0m\u001b[0;34m]\u001b[0m \u001b[0;34m=\u001b[0m \u001b[0mvalue\u001b[0m\u001b[0;34m\u001b[0m\u001b[0;34m\u001b[0m\u001b[0m\n\u001b[0;32m--> 251\u001b[0;31m                 \u001b[0mself\u001b[0m\u001b[0;34m.\u001b[0m\u001b[0mresult\u001b[0m \u001b[0;34m=\u001b[0m \u001b[0mself\u001b[0m\u001b[0;34m.\u001b[0m\u001b[0mf\u001b[0m\u001b[0;34m(\u001b[0m\u001b[0;34m**\u001b[0m\u001b[0mself\u001b[0m\u001b[0;34m.\u001b[0m\u001b[0mkwargs\u001b[0m\u001b[0;34m)\u001b[0m\u001b[0;34m\u001b[0m\u001b[0;34m\u001b[0m\u001b[0m\n\u001b[0m\u001b[1;32m    252\u001b[0m                 \u001b[0mshow_inline_matplotlib_plots\u001b[0m\u001b[0;34m(\u001b[0m\u001b[0;34m)\u001b[0m\u001b[0;34m\u001b[0m\u001b[0;34m\u001b[0m\u001b[0m\n\u001b[1;32m    253\u001b[0m                 \u001b[0;32mif\u001b[0m \u001b[0mself\u001b[0m\u001b[0;34m.\u001b[0m\u001b[0mauto_display\u001b[0m \u001b[0;32mand\u001b[0m \u001b[0mself\u001b[0m\u001b[0;34m.\u001b[0m\u001b[0mresult\u001b[0m \u001b[0;32mis\u001b[0m \u001b[0;32mnot\u001b[0m \u001b[0;32mNone\u001b[0m\u001b[0;34m:\u001b[0m\u001b[0;34m\u001b[0m\u001b[0;34m\u001b[0m\u001b[0m\n",
                            "\u001b[0;32m<ipython-input-5-d8b72f9f7efa>\u001b[0m in \u001b[0;36mcalc_deformation_2Ddisk\u001b[0;34m(M)\u001b[0m\n\u001b[1;32m     43\u001b[0m \u001b[0;34m\u001b[0m\u001b[0m\n\u001b[1;32m     44\u001b[0m     \u001b[0mplt\u001b[0m\u001b[0;34m.\u001b[0m\u001b[0mfigure\u001b[0m\u001b[0;34m(\u001b[0m\u001b[0;34m)\u001b[0m\u001b[0;34m\u001b[0m\u001b[0;34m\u001b[0m\u001b[0m\n\u001b[0;32m---> 45\u001b[0;31m     \u001b[0mplt\u001b[0m\u001b[0;34m.\u001b[0m\u001b[0mcontourf\u001b[0m\u001b[0;34m(\u001b[0m\u001b[0mX\u001b[0m\u001b[0;34m/\u001b[0m\u001b[0;36m1000\u001b[0m\u001b[0;34m,\u001b[0m\u001b[0mY\u001b[0m\u001b[0;34m/\u001b[0m\u001b[0;36m1000\u001b[0m\u001b[0;34m,\u001b[0m\u001b[0mdefm\u001b[0m\u001b[0;34m,\u001b[0m\u001b[0mcmap\u001b[0m\u001b[0;34m=\u001b[0m\u001b[0;34m'bwr'\u001b[0m\u001b[0;34m,\u001b[0m \u001b[0mlevels\u001b[0m\u001b[0;34m=\u001b[0m\u001b[0mnp\u001b[0m\u001b[0;34m.\u001b[0m\u001b[0mlinspace\u001b[0m\u001b[0;34m(\u001b[0m\u001b[0mnp\u001b[0m\u001b[0;34m.\u001b[0m\u001b[0mmin\u001b[0m\u001b[0;34m(\u001b[0m\u001b[0mdefm\u001b[0m\u001b[0;34m)\u001b[0m\u001b[0;34m,\u001b[0m\u001b[0;34m-\u001b[0m\u001b[0mnp\u001b[0m\u001b[0;34m.\u001b[0m\u001b[0mmin\u001b[0m\u001b[0;34m(\u001b[0m\u001b[0mdefm\u001b[0m\u001b[0;34m)\u001b[0m\u001b[0;34m,\u001b[0m\u001b[0mnum\u001b[0m\u001b[0;34m=\u001b[0m\u001b[0;36m20\u001b[0m\u001b[0;34m)\u001b[0m\u001b[0;34m)\u001b[0m\u001b[0;34m\u001b[0m\u001b[0;34m\u001b[0m\u001b[0m\n\u001b[0m\u001b[1;32m     46\u001b[0m     \u001b[0mplt\u001b[0m\u001b[0;34m.\u001b[0m\u001b[0mcolorbar\u001b[0m\u001b[0;34m(\u001b[0m\u001b[0;34m)\u001b[0m\u001b[0;34m\u001b[0m\u001b[0;34m\u001b[0m\u001b[0m\n\u001b[1;32m     47\u001b[0m     \u001b[0mplt\u001b[0m\u001b[0;34m.\u001b[0m\u001b[0mshow\u001b[0m\u001b[0;34m(\u001b[0m\u001b[0;34m)\u001b[0m\u001b[0;34m\u001b[0m\u001b[0;34m\u001b[0m\u001b[0m\n",
                            "\u001b[0;32m~/anaconda3/lib/python3.7/site-packages/matplotlib/pyplot.py\u001b[0m in \u001b[0;36mcontourf\u001b[0;34m(*args, **kwargs)\u001b[0m\n\u001b[1;32m   2936\u001b[0m                       mplDeprecation)\n\u001b[1;32m   2937\u001b[0m     \u001b[0;32mtry\u001b[0m\u001b[0;34m:\u001b[0m\u001b[0;34m\u001b[0m\u001b[0;34m\u001b[0m\u001b[0m\n\u001b[0;32m-> 2938\u001b[0;31m         \u001b[0mret\u001b[0m \u001b[0;34m=\u001b[0m \u001b[0max\u001b[0m\u001b[0;34m.\u001b[0m\u001b[0mcontourf\u001b[0m\u001b[0;34m(\u001b[0m\u001b[0;34m*\u001b[0m\u001b[0margs\u001b[0m\u001b[0;34m,\u001b[0m \u001b[0;34m**\u001b[0m\u001b[0mkwargs\u001b[0m\u001b[0;34m)\u001b[0m\u001b[0;34m\u001b[0m\u001b[0;34m\u001b[0m\u001b[0m\n\u001b[0m\u001b[1;32m   2939\u001b[0m     \u001b[0;32mfinally\u001b[0m\u001b[0;34m:\u001b[0m\u001b[0;34m\u001b[0m\u001b[0;34m\u001b[0m\u001b[0m\n\u001b[1;32m   2940\u001b[0m         \u001b[0max\u001b[0m\u001b[0;34m.\u001b[0m\u001b[0m_hold\u001b[0m \u001b[0;34m=\u001b[0m \u001b[0mwashold\u001b[0m\u001b[0;34m\u001b[0m\u001b[0;34m\u001b[0m\u001b[0m\n",
                            "\u001b[0;32m~/anaconda3/lib/python3.7/site-packages/matplotlib/__init__.py\u001b[0m in \u001b[0;36minner\u001b[0;34m(ax, *args, **kwargs)\u001b[0m\n\u001b[1;32m   1865\u001b[0m                         \u001b[0;34m\"the Matplotlib list!)\"\u001b[0m \u001b[0;34m%\u001b[0m \u001b[0;34m(\u001b[0m\u001b[0mlabel_namer\u001b[0m\u001b[0;34m,\u001b[0m \u001b[0mfunc\u001b[0m\u001b[0;34m.\u001b[0m\u001b[0m__name__\u001b[0m\u001b[0;34m)\u001b[0m\u001b[0;34m,\u001b[0m\u001b[0;34m\u001b[0m\u001b[0;34m\u001b[0m\u001b[0m\n\u001b[1;32m   1866\u001b[0m                         RuntimeWarning, stacklevel=2)\n\u001b[0;32m-> 1867\u001b[0;31m             \u001b[0;32mreturn\u001b[0m \u001b[0mfunc\u001b[0m\u001b[0;34m(\u001b[0m\u001b[0max\u001b[0m\u001b[0;34m,\u001b[0m \u001b[0;34m*\u001b[0m\u001b[0margs\u001b[0m\u001b[0;34m,\u001b[0m \u001b[0;34m**\u001b[0m\u001b[0mkwargs\u001b[0m\u001b[0;34m)\u001b[0m\u001b[0;34m\u001b[0m\u001b[0;34m\u001b[0m\u001b[0m\n\u001b[0m\u001b[1;32m   1868\u001b[0m \u001b[0;34m\u001b[0m\u001b[0m\n\u001b[1;32m   1869\u001b[0m         inner.__doc__ = _add_data_doc(inner.__doc__,\n",
                            "\u001b[0;32m~/anaconda3/lib/python3.7/site-packages/matplotlib/axes/_axes.py\u001b[0m in \u001b[0;36mcontourf\u001b[0;34m(self, *args, **kwargs)\u001b[0m\n\u001b[1;32m   6288\u001b[0m             \u001b[0mself\u001b[0m\u001b[0;34m.\u001b[0m\u001b[0mcla\u001b[0m\u001b[0;34m(\u001b[0m\u001b[0;34m)\u001b[0m\u001b[0;34m\u001b[0m\u001b[0;34m\u001b[0m\u001b[0m\n\u001b[1;32m   6289\u001b[0m         \u001b[0mkwargs\u001b[0m\u001b[0;34m[\u001b[0m\u001b[0;34m'filled'\u001b[0m\u001b[0;34m]\u001b[0m \u001b[0;34m=\u001b[0m \u001b[0;32mTrue\u001b[0m\u001b[0;34m\u001b[0m\u001b[0;34m\u001b[0m\u001b[0m\n\u001b[0;32m-> 6290\u001b[0;31m         \u001b[0mcontours\u001b[0m \u001b[0;34m=\u001b[0m \u001b[0mmcontour\u001b[0m\u001b[0;34m.\u001b[0m\u001b[0mQuadContourSet\u001b[0m\u001b[0;34m(\u001b[0m\u001b[0mself\u001b[0m\u001b[0;34m,\u001b[0m \u001b[0;34m*\u001b[0m\u001b[0margs\u001b[0m\u001b[0;34m,\u001b[0m \u001b[0;34m**\u001b[0m\u001b[0mkwargs\u001b[0m\u001b[0;34m)\u001b[0m\u001b[0;34m\u001b[0m\u001b[0;34m\u001b[0m\u001b[0m\n\u001b[0m\u001b[1;32m   6291\u001b[0m         \u001b[0mself\u001b[0m\u001b[0;34m.\u001b[0m\u001b[0mautoscale_view\u001b[0m\u001b[0;34m(\u001b[0m\u001b[0;34m)\u001b[0m\u001b[0;34m\u001b[0m\u001b[0;34m\u001b[0m\u001b[0m\n\u001b[1;32m   6292\u001b[0m         \u001b[0;32mreturn\u001b[0m \u001b[0mcontours\u001b[0m\u001b[0;34m\u001b[0m\u001b[0;34m\u001b[0m\u001b[0m\n",
                            "\u001b[0;32m~/anaconda3/lib/python3.7/site-packages/matplotlib/contour.py\u001b[0m in \u001b[0;36m__init__\u001b[0;34m(self, ax, *args, **kwargs)\u001b[0m\n\u001b[1;32m    888\u001b[0m         \u001b[0mself\u001b[0m\u001b[0;34m.\u001b[0m\u001b[0m_transform\u001b[0m \u001b[0;34m=\u001b[0m \u001b[0mkwargs\u001b[0m\u001b[0;34m.\u001b[0m\u001b[0mpop\u001b[0m\u001b[0;34m(\u001b[0m\u001b[0;34m'transform'\u001b[0m\u001b[0;34m,\u001b[0m \u001b[0;32mNone\u001b[0m\u001b[0;34m)\u001b[0m\u001b[0;34m\u001b[0m\u001b[0;34m\u001b[0m\u001b[0m\n\u001b[1;32m    889\u001b[0m \u001b[0;34m\u001b[0m\u001b[0m\n\u001b[0;32m--> 890\u001b[0;31m         \u001b[0mkwargs\u001b[0m \u001b[0;34m=\u001b[0m \u001b[0mself\u001b[0m\u001b[0;34m.\u001b[0m\u001b[0m_process_args\u001b[0m\u001b[0;34m(\u001b[0m\u001b[0;34m*\u001b[0m\u001b[0margs\u001b[0m\u001b[0;34m,\u001b[0m \u001b[0;34m**\u001b[0m\u001b[0mkwargs\u001b[0m\u001b[0;34m)\u001b[0m\u001b[0;34m\u001b[0m\u001b[0;34m\u001b[0m\u001b[0m\n\u001b[0m\u001b[1;32m    891\u001b[0m         \u001b[0mself\u001b[0m\u001b[0;34m.\u001b[0m\u001b[0m_process_levels\u001b[0m\u001b[0;34m(\u001b[0m\u001b[0;34m)\u001b[0m\u001b[0;34m\u001b[0m\u001b[0;34m\u001b[0m\u001b[0m\n\u001b[1;32m    892\u001b[0m \u001b[0;34m\u001b[0m\u001b[0m\n",
                            "\u001b[0;32m~/anaconda3/lib/python3.7/site-packages/matplotlib/contour.py\u001b[0m in \u001b[0;36m_process_args\u001b[0;34m(self, *args, **kwargs)\u001b[0m\n\u001b[1;32m   1474\u001b[0m                 \u001b[0mself\u001b[0m\u001b[0;34m.\u001b[0m\u001b[0m_corner_mask\u001b[0m \u001b[0;34m=\u001b[0m \u001b[0mmpl\u001b[0m\u001b[0;34m.\u001b[0m\u001b[0mrcParams\u001b[0m\u001b[0;34m[\u001b[0m\u001b[0;34m'contour.corner_mask'\u001b[0m\u001b[0;34m]\u001b[0m\u001b[0;34m\u001b[0m\u001b[0;34m\u001b[0m\u001b[0m\n\u001b[1;32m   1475\u001b[0m \u001b[0;34m\u001b[0m\u001b[0m\n\u001b[0;32m-> 1476\u001b[0;31m             \u001b[0mx\u001b[0m\u001b[0;34m,\u001b[0m \u001b[0my\u001b[0m\u001b[0;34m,\u001b[0m \u001b[0mz\u001b[0m \u001b[0;34m=\u001b[0m \u001b[0mself\u001b[0m\u001b[0;34m.\u001b[0m\u001b[0m_contour_args\u001b[0m\u001b[0;34m(\u001b[0m\u001b[0margs\u001b[0m\u001b[0;34m,\u001b[0m \u001b[0mkwargs\u001b[0m\u001b[0;34m)\u001b[0m\u001b[0;34m\u001b[0m\u001b[0;34m\u001b[0m\u001b[0m\n\u001b[0m\u001b[1;32m   1477\u001b[0m \u001b[0;34m\u001b[0m\u001b[0m\n\u001b[1;32m   1478\u001b[0m             \u001b[0m_mask\u001b[0m \u001b[0;34m=\u001b[0m \u001b[0mma\u001b[0m\u001b[0;34m.\u001b[0m\u001b[0mgetmask\u001b[0m\u001b[0;34m(\u001b[0m\u001b[0mz\u001b[0m\u001b[0;34m)\u001b[0m\u001b[0;34m\u001b[0m\u001b[0;34m\u001b[0m\u001b[0m\n",
                            "\u001b[0;32m~/anaconda3/lib/python3.7/site-packages/matplotlib/contour.py\u001b[0m in \u001b[0;36m_contour_args\u001b[0;34m(self, args, kwargs)\u001b[0m\n\u001b[1;32m   1544\u001b[0m             \u001b[0mwarnings\u001b[0m\u001b[0;34m.\u001b[0m\u001b[0mwarn\u001b[0m\u001b[0;34m(\u001b[0m\u001b[0;34m'Log scale: values of z <= 0 have been masked'\u001b[0m\u001b[0;34m)\u001b[0m\u001b[0;34m\u001b[0m\u001b[0;34m\u001b[0m\u001b[0m\n\u001b[1;32m   1545\u001b[0m             \u001b[0mself\u001b[0m\u001b[0;34m.\u001b[0m\u001b[0mzmin\u001b[0m \u001b[0;34m=\u001b[0m \u001b[0mfloat\u001b[0m\u001b[0;34m(\u001b[0m\u001b[0mz\u001b[0m\u001b[0;34m.\u001b[0m\u001b[0mmin\u001b[0m\u001b[0;34m(\u001b[0m\u001b[0;34m)\u001b[0m\u001b[0;34m)\u001b[0m\u001b[0;34m\u001b[0m\u001b[0;34m\u001b[0m\u001b[0m\n\u001b[0;32m-> 1546\u001b[0;31m         \u001b[0mself\u001b[0m\u001b[0;34m.\u001b[0m\u001b[0m_contour_level_args\u001b[0m\u001b[0;34m(\u001b[0m\u001b[0mz\u001b[0m\u001b[0;34m,\u001b[0m \u001b[0margs\u001b[0m\u001b[0;34m)\u001b[0m\u001b[0;34m\u001b[0m\u001b[0;34m\u001b[0m\u001b[0m\n\u001b[0m\u001b[1;32m   1547\u001b[0m         \u001b[0;32mreturn\u001b[0m \u001b[0;34m(\u001b[0m\u001b[0mx\u001b[0m\u001b[0;34m,\u001b[0m \u001b[0my\u001b[0m\u001b[0;34m,\u001b[0m \u001b[0mz\u001b[0m\u001b[0;34m)\u001b[0m\u001b[0;34m\u001b[0m\u001b[0;34m\u001b[0m\u001b[0m\n\u001b[1;32m   1548\u001b[0m \u001b[0;34m\u001b[0m\u001b[0m\n",
                            "\u001b[0;32m~/anaconda3/lib/python3.7/site-packages/matplotlib/contour.py\u001b[0m in \u001b[0;36m_contour_level_args\u001b[0;34m(self, z, args)\u001b[0m\n\u001b[1;32m   1235\u001b[0m \u001b[0;34m\u001b[0m\u001b[0m\n\u001b[1;32m   1236\u001b[0m         \u001b[0;32mif\u001b[0m \u001b[0mlen\u001b[0m\u001b[0;34m(\u001b[0m\u001b[0mself\u001b[0m\u001b[0;34m.\u001b[0m\u001b[0mlevels\u001b[0m\u001b[0;34m)\u001b[0m \u001b[0;34m>\u001b[0m \u001b[0;36m1\u001b[0m \u001b[0;32mand\u001b[0m \u001b[0mnp\u001b[0m\u001b[0;34m.\u001b[0m\u001b[0mmin\u001b[0m\u001b[0;34m(\u001b[0m\u001b[0mnp\u001b[0m\u001b[0;34m.\u001b[0m\u001b[0mdiff\u001b[0m\u001b[0;34m(\u001b[0m\u001b[0mself\u001b[0m\u001b[0;34m.\u001b[0m\u001b[0mlevels\u001b[0m\u001b[0;34m)\u001b[0m\u001b[0;34m)\u001b[0m \u001b[0;34m<=\u001b[0m \u001b[0;36m0.0\u001b[0m\u001b[0;34m:\u001b[0m\u001b[0;34m\u001b[0m\u001b[0;34m\u001b[0m\u001b[0m\n\u001b[0;32m-> 1237\u001b[0;31m             \u001b[0;32mraise\u001b[0m \u001b[0mValueError\u001b[0m\u001b[0;34m(\u001b[0m\u001b[0;34m\"Contour levels must be increasing\"\u001b[0m\u001b[0;34m)\u001b[0m\u001b[0;34m\u001b[0m\u001b[0;34m\u001b[0m\u001b[0m\n\u001b[0m\u001b[1;32m   1238\u001b[0m \u001b[0;34m\u001b[0m\u001b[0m\n\u001b[1;32m   1239\u001b[0m     \u001b[0;32mdef\u001b[0m \u001b[0m_process_levels\u001b[0m\u001b[0;34m(\u001b[0m\u001b[0mself\u001b[0m\u001b[0;34m)\u001b[0m\u001b[0;34m:\u001b[0m\u001b[0;34m\u001b[0m\u001b[0;34m\u001b[0m\u001b[0m\n",
                            "\u001b[0;31mValueError\u001b[0m: Contour levels must be increasing"
                        ]
                    }
                ]
            }
        },
        "86d59a1f1aff4f608c7163a341d7740f": {
            "model_name": "LayoutModel",
            "model_module": "@jupyter-widgets/base",
            "model_module_version": "1.1.0",
            "state": {}
        },
        "92b741b20f0f41abbb502b81766caeef": {
            "model_name": "VBoxModel",
            "model_module": "@jupyter-widgets/controls",
            "model_module_version": "1.4.0",
            "state": {
                "_dom_classes": [
                    "widget-interact"
                ],
                "children": [
                    "IPY_MODEL_57ef548fffdd4a4bbf09e93e8126c181",
                    "IPY_MODEL_2b735dc2d7334a4f84d2e894546b07ef"
                ],
                "layout": "IPY_MODEL_86d59a1f1aff4f608c7163a341d7740f"
            }
        },
        "e43b9ee8b0df4510af4183586729f89b": {
            "model_name": "LayoutModel",
            "model_module": "@jupyter-widgets/base",
            "model_module_version": "1.1.0",
            "state": {}
        },
        "db60ff99b1e84f619fa9b11587d339ae": {
            "model_name": "DescriptionStyleModel",
            "model_module": "@jupyter-widgets/controls",
            "model_module_version": "1.4.0",
            "state": {
                "description_width": ""
            }
        },
        "57ef548fffdd4a4bbf09e93e8126c181": {
            "model_name": "DropdownModel",
            "model_module": "@jupyter-widgets/controls",
            "model_module_version": "1.4.0",
            "state": {
                "_options_labels": [
                    "0.0",
                    "8032653061.22449",
                    "16065306122.44898",
                    "24097959183.67347",
                    "32130612244.89796",
                    "40163265306.12245",
                    "48195918367.34694",
                    "56228571428.571434",
                    "64261224489.79592",
                    "72293877551.02042",
                    "80326530612.2449",
                    "88359183673.46939",
                    "96391836734.69388",
                    "104424489795.91837",
                    "112457142857.14287",
                    "120489795918.36736",
                    "128522448979.59184",
                    "136555102040.81633",
                    "144587755102.04083",
                    "152620408163.26532",
                    "160653061224.4898",
                    "168685714285.7143",
                    "176718367346.93878",
                    "184751020408.16327",
                    "192783673469.38776",
                    "200816326530.61224",
                    "208848979591.83673",
                    "216881632653.06125",
                    "224914285714.28574",
                    "232946938775.51022",
                    "240979591836.7347",
                    "249012244897.9592",
                    "257044897959.1837",
                    "265077551020.40817",
                    "273110204081.63266",
                    "281142857142.8572",
                    "289175510204.08167",
                    "297208163265.30615",
                    "305240816326.53064",
                    "313273469387.7551",
                    "321306122448.9796",
                    "329338775510.2041",
                    "337371428571.4286",
                    "345404081632.6531",
                    "353436734693.87756",
                    "361469387755.10205",
                    "369502040816.32654",
                    "377534693877.551",
                    "385567346938.7755",
                    "393600000000.0"
                ],
                "description": "M",
                "index": 34,
                "layout": "IPY_MODEL_e43b9ee8b0df4510af4183586729f89b",
                "style": "IPY_MODEL_db60ff99b1e84f619fa9b11587d339ae"
            }
        },
        "74f1593ee97541728118f45d3846f843": {
            "model_name": "LayoutModel",
            "model_module": "@jupyter-widgets/base",
            "model_module_version": "1.1.0",
            "state": {}
        },
        "2b735dc2d7334a4f84d2e894546b07ef": {
            "model_name": "OutputModel",
            "model_module": "@jupyter-widgets/output",
            "model_module_version": "1.0.0",
            "state": {
                "layout": "IPY_MODEL_74f1593ee97541728118f45d3846f843",
                "outputs": [
                    {
                        "output_type": "display_data",
                        "data": {
                            "text/plain": "<Figure size 432x288 with 2 Axes>",
                            "image/png": "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\n"
                        },
                        "metadata": {
                            "needs_background": "light"
                        }
                    },
                    {
                        "output_type": "display_data",
                        "data": {
                            "text/plain": "array([[-0.0008715 , -0.00087238, -0.00087326, ..., -0.00087326,\n        -0.00087238, -0.0008715 ],\n       [-0.00087238, -0.00087326, -0.00087414, ..., -0.00087414,\n        -0.00087326, -0.00087238],\n       [-0.00087326, -0.00087414, -0.00087502, ..., -0.00087502,\n        -0.00087414, -0.00087326],\n       ...,\n       [-0.00087326, -0.00087414, -0.00087502, ..., -0.00087502,\n        -0.00087414, -0.00087326],\n       [-0.00087238, -0.00087326, -0.00087414, ..., -0.00087414,\n        -0.00087326, -0.00087238],\n       [-0.0008715 , -0.00087238, -0.00087326, ..., -0.00087326,\n        -0.00087238, -0.0008715 ]])"
                        },
                        "metadata": {}
                    }
                ]
            }
        },
        "f686981d11844bf69b73588217c6413b": {
            "model_name": "LayoutModel",
            "model_module": "@jupyter-widgets/base",
            "model_module_version": "1.1.0",
            "state": {}
        },
        "f26d2b5a3a934daa9675902c97eb6156": {
            "model_name": "VBoxModel",
            "model_module": "@jupyter-widgets/controls",
            "model_module_version": "1.4.0",
            "state": {
                "_dom_classes": [
                    "widget-interact"
                ],
                "children": [
                    "IPY_MODEL_3a9c951847044587bd580263ba06d863",
                    "IPY_MODEL_3f69088ef0c34d62b3b0085d12999c19"
                ],
                "layout": "IPY_MODEL_f686981d11844bf69b73588217c6413b"
            }
        },
        "b15cafe6a888441bbe2087c2fde3f217": {
            "model_name": "LayoutModel",
            "model_module": "@jupyter-widgets/base",
            "model_module_version": "1.1.0",
            "state": {}
        },
        "005aeb71a15248ae806c9b1ac524a126": {
            "model_name": "DescriptionStyleModel",
            "model_module": "@jupyter-widgets/controls",
            "model_module_version": "1.4.0",
            "state": {
                "description_width": ""
            }
        },
        "3a9c951847044587bd580263ba06d863": {
            "model_name": "DropdownModel",
            "model_module": "@jupyter-widgets/controls",
            "model_module_version": "1.4.0",
            "state": {
                "_options_labels": [
                    "0.0",
                    "8032653061.22449",
                    "16065306122.44898",
                    "24097959183.67347",
                    "32130612244.89796",
                    "40163265306.12245",
                    "48195918367.34694",
                    "56228571428.571434",
                    "64261224489.79592",
                    "72293877551.02042",
                    "80326530612.2449",
                    "88359183673.46939",
                    "96391836734.69388",
                    "104424489795.91837",
                    "112457142857.14287",
                    "120489795918.36736",
                    "128522448979.59184",
                    "136555102040.81633",
                    "144587755102.04083",
                    "152620408163.26532",
                    "160653061224.4898",
                    "168685714285.7143",
                    "176718367346.93878",
                    "184751020408.16327",
                    "192783673469.38776",
                    "200816326530.61224",
                    "208848979591.83673",
                    "216881632653.06125",
                    "224914285714.28574",
                    "232946938775.51022",
                    "240979591836.7347",
                    "249012244897.9592",
                    "257044897959.1837",
                    "265077551020.40817",
                    "273110204081.63266",
                    "281142857142.8572",
                    "289175510204.08167",
                    "297208163265.30615",
                    "305240816326.53064",
                    "313273469387.7551",
                    "321306122448.9796",
                    "329338775510.2041",
                    "337371428571.4286",
                    "345404081632.6531",
                    "353436734693.87756",
                    "361469387755.10205",
                    "369502040816.32654",
                    "377534693877.551",
                    "385567346938.7755",
                    "393600000000.0"
                ],
                "description": "M",
                "index": 0,
                "layout": "IPY_MODEL_b15cafe6a888441bbe2087c2fde3f217",
                "style": "IPY_MODEL_005aeb71a15248ae806c9b1ac524a126"
            }
        },
        "70714d8436fc46368e2887b4117259b2": {
            "model_name": "LayoutModel",
            "model_module": "@jupyter-widgets/base",
            "model_module_version": "1.1.0",
            "state": {}
        },
        "3f69088ef0c34d62b3b0085d12999c19": {
            "model_name": "OutputModel",
            "model_module": "@jupyter-widgets/output",
            "model_module_version": "1.0.0",
            "state": {
                "layout": "IPY_MODEL_70714d8436fc46368e2887b4117259b2",
                "outputs": [
                    {
                        "output_type": "display_data",
                        "data": {
                            "text/plain": "<Figure size 432x288 with 2 Axes>",
                            "image/png": "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\n"
                        },
                        "metadata": {
                            "needs_background": "light"
                        }
                    }
                ]
            }
        },
        "290a93d1829241d3ab1f49d360ad82fe": {
            "model_name": "LayoutModel",
            "model_module": "@jupyter-widgets/base",
            "model_module_version": "1.1.0",
            "state": {}
        },
        "615ff8234da04a15b08578d4aa85bbc1": {
            "model_name": "SliderStyleModel",
            "model_module": "@jupyter-widgets/controls",
            "model_module_version": "1.4.0",
            "state": {
                "description_width": ""
            }
        },
        "d43f3f59087445958ed5cee62e6d624a": {
            "model_name": "IntSliderModel",
            "model_module": "@jupyter-widgets/controls",
            "model_module_version": "1.4.0",
            "state": {
                "description": "M",
                "layout": "IPY_MODEL_290a93d1829241d3ab1f49d360ad82fe",
                "max": 393600000000,
                "style": "IPY_MODEL_615ff8234da04a15b08578d4aa85bbc1",
                "value": 52056754820
            }
        },
        "8575da8433c84ca591d84ce331f7c007": {
            "model_name": "LayoutModel",
            "model_module": "@jupyter-widgets/base",
            "model_module_version": "1.1.0",
            "state": {}
        },
        "8755bda3092f44fab3921211f426b184": {
            "model_name": "VBoxModel",
            "model_module": "@jupyter-widgets/controls",
            "model_module_version": "1.4.0",
            "state": {
                "_dom_classes": [
                    "widget-interact"
                ],
                "children": [
                    "IPY_MODEL_d43f3f59087445958ed5cee62e6d624a",
                    "IPY_MODEL_1e6c99bbbcba4914b322ab8f14d00245"
                ],
                "layout": "IPY_MODEL_8575da8433c84ca591d84ce331f7c007"
            }
        },
        "bd551830a913490db445df50d0042d70": {
            "model_name": "LayoutModel",
            "model_module": "@jupyter-widgets/base",
            "model_module_version": "1.1.0",
            "state": {}
        },
        "1e6c99bbbcba4914b322ab8f14d00245": {
            "model_name": "OutputModel",
            "model_module": "@jupyter-widgets/output",
            "model_module_version": "1.0.0",
            "state": {
                "layout": "IPY_MODEL_bd551830a913490db445df50d0042d70",
                "outputs": [
                    {
                        "output_type": "display_data",
                        "data": {
                            "text/plain": "<Figure size 432x288 with 2 Axes>",
                            "image/png": "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\n"
                        },
                        "metadata": {
                            "needs_background": "light"
                        }
                    }
                ]
            }
        },
        "b6084e19926a4f9aaaa67b7474f27fc1": {
            "model_name": "LayoutModel",
            "model_module": "@jupyter-widgets/base",
            "model_module_version": "1.1.0",
            "state": {}
        },
        "f061857bbc8f4f16a156d4884d66a140": {
            "model_name": "SliderStyleModel",
            "model_module": "@jupyter-widgets/controls",
            "model_module_version": "1.4.0",
            "state": {
                "description_width": ""
            }
        },
        "ab3fdd70ee3b464a8b5c3a84d6d35baa": {
            "model_name": "IntSliderModel",
            "model_module": "@jupyter-widgets/controls",
            "model_module_version": "1.4.0",
            "state": {
                "description": "M",
                "layout": "IPY_MODEL_b6084e19926a4f9aaaa67b7474f27fc1",
                "max": 0,
                "style": "IPY_MODEL_f061857bbc8f4f16a156d4884d66a140"
            }
        },
        "a35499904de541ffbe65bcbdfec2c9fe": {
            "model_name": "LayoutModel",
            "model_module": "@jupyter-widgets/base",
            "model_module_version": "1.1.0",
            "state": {}
        },
        "b207778145264a7d926c5d671c3e67b7": {
            "model_name": "VBoxModel",
            "model_module": "@jupyter-widgets/controls",
            "model_module_version": "1.4.0",
            "state": {
                "_dom_classes": [
                    "widget-interact"
                ],
                "children": [
                    "IPY_MODEL_ab3fdd70ee3b464a8b5c3a84d6d35baa",
                    "IPY_MODEL_e2fe29c09e37427cbc83416c7044044b"
                ],
                "layout": "IPY_MODEL_a35499904de541ffbe65bcbdfec2c9fe"
            }
        },
        "5fb33bfe2446434788d1f012da70c6aa": {
            "model_name": "LayoutModel",
            "model_module": "@jupyter-widgets/base",
            "model_module_version": "1.1.0",
            "state": {}
        },
        "e2fe29c09e37427cbc83416c7044044b": {
            "model_name": "OutputModel",
            "model_module": "@jupyter-widgets/output",
            "model_module_version": "1.0.0",
            "state": {
                "layout": "IPY_MODEL_5fb33bfe2446434788d1f012da70c6aa",
                "outputs": [
                    {
                        "output_type": "display_data",
                        "data": {
                            "text/plain": "<Figure size 432x288 with 2 Axes>",
                            "image/png": "iVBORw0KGgoAAAANSUhEUgAAAYQAAAD8CAYAAAB3u9PLAAAABHNCSVQICAgIfAhkiAAAAAlwSFlzAAALEgAACxIB0t1+/AAAADl0RVh0U29mdHdhcmUAbWF0cGxvdGxpYiB2ZXJzaW9uIDIuMi4zLCBodHRwOi8vbWF0cGxvdGxpYi5vcmcvIxREBQAAIABJREFUeJzt3X20XVV97vHvQ15AaMFAAgIhTbgEa0BAPEQdVItGQlBLaAs23KuNFZsLVyh21BeQKh1Y7gD1inaA2hSiESkvA0FiBUIML60thCQ0AUKCSRHNMUgSEkGkkBzy3D/WPGGz2efsnextzkl4PmPssdeaa665fnuMZP3OmnOtNWWbiIiI3QY6gIiIGBySECIiAkhCiIiIIgkhIiKAJISIiCiSECIiAkhCiIiIIgkhIiKAJISIiCiGDsRBR44c6bFjxw7EoSNiJ7N48eL1tke108aUoUO9voW3MizesmWu7SntHGtnNiAJYezYsSxcuGggDh0RO5nddtPP2m1jvc2iPfdsWk/PPTey3WPtzNJlFBERQBJCREQUSQgREQEkIURERJGEEBERQBJCREQUSQgREdtA0hRJj0laJen8Btt3l3RD2b5A0thSvp+kuyU9J+mKmvq/K2lJzWe9pK+WbWPKPv8p6SFJ7yvlwyV9S9LDkpZKOqETv21AnkOIiNgZSRoCXAmcCHQDCyXNsf1oTbUzgY22D5M0DbgM+DPgBeBzwJHlA4DtXwPH1BxjMXBzWf1b4Ebb35A0AbgNGAv8Zdn3zZL2B26XdJztLe38vlwhRES0biKwyvbjtjcB1wNT6+pMBWaX5ZuASZJk+ze2f0yVGBqSNB7YH/i3UmRg77K8D7CmLE8A5gPYXgv8Cuhq54dBEkJExLY4GFhds95dyhrWsd0DPAPs12L7ZwA32Fvfs/F3wIckdVNdHZxbypcCUyUNlTQOeCtwyLb9lFfrSJeRpNcDV1FdBhn4qO37OtF2RETbhg+H0aOb11uxYqSk2vfqzLQ9s2ZdDfaqf0lSK3X6Mg34cM36GcC3bf8/Se8ArpF0JDALeBOwCPgZ8B9AT4vH6FOnxhC+Btxh+zRJw4HmLw2JiBh81tvur+ulm1f+JT6al7tx6ut0SxpK1dWzodmBJR0NDLW9uKb4TGAKgO37JO0BjCzdRH9ds+9/ACubHaOZtruMJO0NvAu4GsD2Jtu/arfdiIhBaCEwXtK48sfvNGBOXZ05wPSyfBpwV00XUH/OAK6rK/s5MAlA0puAPYB1kvaUtFcpPxHoqRvY3i6duEI4FFgHfKtkuMXAebZ/04G2IyIGDds9ks4B5gJDgFm2l0m6GFhkew7VH8fXSFpFdWUwrXd/SU9QDRIPl3QqMLnmRP5B4H11h/wb4J8k/TVVt9NHbLvcWTRX0hbgF7yym2m7qbXE1U8DUhdwP3C87QWSvgY8a/tzdfVmADMAxowZ89Ynnmj7jbYR8Rqw225a3KQbp6mu173Oi1qYg0UrVrR9rJ1ZJ+4y6ga6bS8o6zcBx9ZXsj3TdpftrlGj2prrIiIifgvaTgi2fwmslvTGUjQJaLsvKyIidqxO3WV0LnBtGWR5HPiLDrUbERE7SEcSgu0ldOApuYiIGDh5UjkiIoAkhIiIKJIQIiICyOuvI+K1YNgwOOig5vVWrPjtxzKI5QohIiKAJISIiCiSECIiAkhCiIiIIgkhIiKAJISIiCiSECIitoGkKZIek7RK0vkNtu8u6YayfYGksaV8P0l3S3pO0hV1+9whaamkZZK+KWlIzbZzy/GWSfpiKRsmabakhyUtl3RBJ35bEkJERIvKifpK4GRgAnCGpAl11c4ENto+DLgcuKyUvwB8Dvhkg6Y/aPtoqnnpRwGnl+O9G5gKHGX7CODLpf7pwO623wy8FfjfvYmnHUkIERGtmwissv247U3A9VQn7FpTgdll+SZgkiTZ/o3tH1Mlhlew/WxZHAoMp5odDeBs4FLbL5Z6a3t3AfYqcza/DtgEPEubkhAiIlp3MLC6Zr27lDWsY7sHeAbYr1nDkuYCa4FfUyUSgMOBd5aup3slHVfKbwJ+AzxJNe/yl21v2K5fVCOvroiIXd/w4TB6dCs1R0paVLM+0/bMmnU12Kd+HuJW6ry6gn2SpD2Aa4H3APOoztEjgLcDxwE3SjqU6krlJeCgsv3fJP3I9uPNjtOfJISIiJetbzKncjdwSM36aGBNH3W6S5fOPkBLf73bfkHSHKpup3mlrZttG3hA0hZgJPA/gTtsbwbWSvp3qjlp2koI6TKKiGjdQmC8pHFlhshpwJy6OnOA6WX5NOCuckJvSNLvSDqwLA8F3gf0vmXv+1RXC0g6nGp8YT1VN9F7VNmL6gqi7Tfz5QohIqJFtnsknQPMBYYAs2wvk3QxsMj2HOBq4BpJq6iuDKb17i/pCWBvYLikU4HJwNPAHEm7lzbvAr5ZdpkFzJL0CNXA8XTblnQl8C3gEaouqm/Zfqjd35eEEBGxDWzfBtxWV/b5muUXKLeNNth3bB/NHteosNzJ9KEG5c/1dYx2pMsoIiKAJISIiCiSECIiAuhgQpA0RNJ/SvqXTrUZERE7TievEM4DlnewvYiI2IE6khAkjQbeD1zVifYiImLH69QVwleBTwNbOtReRETsYG0/hyDpA8Ba24slndBPvRnADIAxY8a0e9iIiNYNGwYHHTTQUQx6nbhCOB44pTyBdz3V49Tfra9ke6btLttdo0aN6sBhIyKik9pOCLYvsD26PIE3jeq9Ha96si4iIga3PIcQERFAh99lZPse4J5OthkRETtGrhAiIgJIQoiIiCIJISJiG0iaIukxSasknd9g++6SbijbF0gaW7PtglL+mKSTasrPk/SIpGWSPtGgzU9KsqSRZf1TkpaUzyOSXpK0b7u/LQkhIqJFkoYAVwInAxOAMyRNqKt2JrDR9mHA5cBlZd8JVHdiHgFMAb5e3gF3JPCXVPMkHw18QNL4mmMeApxINUsaALa/ZPsY28cAFwD32m5pms7+JCFERLRuIrDK9uNl8prrqeY/rjUVmF2WbwImSVIpv972i7Z/Cqwq7b0JuN/287Z7gHuBP65p73KqN0H0NQ3nGcB17f+0JISIiG1xMLC6Zr27lDWsU07wzwD79bPvI8C7JO0naU+qOZUPAZB0CvAL20sbBVPqTwG+197PqmQKzYjY9Q0bBqNHt1JzpKRFNeszbc+sWVeDfer/cu+rTsNy28slXQbMA54DlgI95WR/IdW8y335I+DfO9FdBEkIERG11tvu6md7N+Wv92I0sKaPOt2ShgL7ABv629f21cDVAJL+b6n7P4BxwNKqx4nRwIOSJtr+ZWljGh3qLoJ0GUVEbIuFwHhJ4yQNpzohz6mrMweYXpZPo3qdj0v5tHIX0jhgPPAAgKT9y/cY4E+A62w/bHt/22PLq4G6gWN7k4GkfYA/BG7t1I/LFUJERIts90g6B5gLDAFm2V4m6WJgke05VH/pXyNpFdWVwbSy7zJJNwKPAj3Ax22/VJr+nqT9gM2lfGML4fwxcKft33Tq9yUhRERsA9u3AbfVlX2+ZvkF4PQ+9r0EuKRB+TtbOO7YuvVvA99uIeSWpcsoIiKAJISIiCiSECIiAkhCiIiIIgkhIiKAJISIiCiSECIiAshzCBHxWjB8OBx00EBHMejlCiEiIoAkhIiIKJIQIiIC6EBCkHSIpLslLS/zgZ7XicAiImLH6sSgcg/wN7YflPS7wGJJ82w/2oG2IyJiB2n7CsH2k7YfLMu/Bpbz6inlIiJikOvoGIKkscBbgAWdbDciYrCQNEXSY5JWSTq/wfbdJd1Qti8o58XebReU8scknVRT/oSkhyUtqZ3CU9KXJK2Q9JCkWyS9vmbbUZLuK131D0vao93f1rGEIOl3qCZ6/oTtZxtsnyFpkaRF69at69RhIyJ2GElDgCuBk4EJwBmSJtRVOxPYaPsw4HLgsrLvBKrJco4ApgBfL+31erftY+qm8JwHHGn7KOAnwAWlraHAd4GzbB8BnEA1uU5bOpIQJA2jSgbX2r65UR3bM2132e4aNWpUJw4bEbGjTQRW2X7c9ibgemBqXZ2pwOyyfBMwSdWkyFOB622/aPunwKrSXp9s32m7p6zeTzWvMsBk4CHbS0u9p2tmX9tunbjLSFRTxi23/ZV224uIGEAje3syymdG3faDgdU16928esx0a51yMn8G2K/JvgbulLS4wTF7fRS4vSwfDljSXEkPSvp06z+xb524y+h44MPAw5KWlLLPlmnmIiIG3rBhMHp083qwvq7Lpp4alLnFOv3te7ztNZL2B+ZJWmH7X7c2KF1IdUfntaVoKPAHwHHA88B8SYttz+8n9qbaTgi2f0zjHxoRsavpBg6pWR8NrOmjTnfp698H2NDfvrZ7v9dKuoWqK+lfASRNBz4ATLLtmmPca3t9qXMbcCzQVkLIk8oREa1bCIyXNE7ScKpB4jl1deYA08vyacBd5UQ+B5hW7kIaB4wHHpC0V3mGC0l7UY0PPFLWpwCfAU6x/XzNMeYCR0nasySdPwTafvYrbzuNiGiR7R5J51CdkIcAs2wvk3QxsMj2HKox1WskraK6MphW9l0m6UaqE3cP8HHbL0k6ALilGo5lKPDPtu8oh7wC2J2qGwngfttn2d4o6StUCcrAbbZ/2O7vS0KIiNgGZXz0trqyz9csvwCc3se+lwCX1JU9DhzdR/3D+onju1S3nnZMuowiIgJIQoiIiCIJISIigCSEiIgokhAiIgJIQoiIiCK3nUbErm/4cDjooIGOYtDLFUJERABJCBERUSQhREQEkIQQERFFEkJERABJCBERUSQhREQEkIQQEbFNJE2R9JikVZLOb7B9d0k3lO0LJI2t2XZBKX9M0kk15bMkrZX0SF1b+0qaJ2ll+R5Ryk+Q9IykJeXzeTogCSEiokWShgBXAicDE4AzJE2oq3YmsLHMZXA5cFnZdwLVZDlHAFOAr5f2AL5dyuqdD8y3PZ5qeszaBPRvto8pn4s78fuSECIiWjcRWGX7cdubgOuBqXV1pgKzy/JNwCRV051NBa63/aLtnwKrSnvY/leq2dXq1bY1Gzi1kz+mXhJCRMTLRkpaVPOZUbf9YGB1zXp3KWtYx3YP8AywX4v71jvA9pOlrSeB/Wu2vUPSUkm3Szqihd/WVN5lFBG7vmHD8EHNzr0ArLfd1c92NShzi3Va2bdVDwK/Z/s5Se8Dvg+M3862turIFUKzQZaIiF1EN3BIzfpoYE1fdSQNBfah6g5qZd96T0k6sLR1ILAWwPaztp8ry7cBwySN3J4fVKvthNDiIEtExK5gITBe0jhJw6kGiefU1ZkDTC/LpwF32XYpn1buQhpH9Rf9A02OV9vWdOBWAElvKOMSSJpIdS5/uq1fRme6jLYOsgBI6h1kebQDbUdEDBq2eySdA8wFhgCzbC+TdDGwyPYc4GrgGkmrqK4MppV9l0m6kerc2AN83PZLAJKuA06gGsPoBi6yfTVwKXCjpDOBnwOnl1BOA86W1AP8NzCtJJ22dCIhNBooeVsH2o2IGHRKF81tdWWfr1l+gZdP3PX7XgJc0qD8jD7qPw1MalB+BXDFNgXegk6MIbQ0UCJpRu/I/bp16zpw2IiI6KROJISWBkpsz7TdZbtr1KhRHThsRER0UicSQiuDLBERMci1PYbQ1yBL25FFRMQO1ZEH0xoNskRExM4lr66IiAggr66IiNeAzZthTbNngiNXCBERUUlCiIgIIAkhIiKKJISIiACSECIiokhCiIgIIAkhIiKKJISIiA6RtK+keZJWlu8RfdSbXuqslDS9pvytkh4us0/+Q80kOF+Q9JCkJZLulHRQKf99SfdJelHSJ+uO8XpJN0laIWm5pHc0iz8JISKic84H5tseD8wv668gaV/gIqp5YyYCF9Ukjm8AM6hmUxsPTCnlX7J9lO1jgH8Beudf2AD8FfDlBrF8DbjD9u8DRwPLmwWfhBAR0TlTgdlleTZwaoM6JwHzbG+wvRGYB0wpcybvbfu+MvvZd3r3t/1szf57Ueacsb3W9kJgc+0BJO0NvItq9jZsb7L9q2bB59UVEREvGylpUc36TNszt2H/A2w/CWD7SUn7N6jTaJbJg8unu0E5AJIuAf4ceAZ4d5M4DgXWAd+SdDSwGDjP9m/62ykJISJ2eZs2tfwuo/W2u/qrIOlHwBsabLqwxXD6mmWy39knbV8IXCjpAuAcqm6nvgwFjgXOtb1A0teouq8+119gSQgREdvA9nv72ibpKUkHlquDA4G1Dap1AyfUrI8G7inlo+vKG6WxfwZ+SP8JoRvotr2grN9Eg/GMehlDiIjonDlA711D04FbG9SZC0yWNKIMJk8G5paupl9Lenu5u+jPe/eXNL5m/1OAFf0FYfuXwGpJbyxFk4BHmwWfK4SIiM65FLhR0pnAz4HTASR1AWfZ/pjtDZK+QDX9MMDFtjeU5bOBbwOvA24vH4BLy8l9C/Az4KzS7huARcDewBZJnwAmlEHoc4Fry9TGjwN/0Sz4JISIiA6x/TTVX+P15YuAj9WszwJm9VHvyAblf9rH8X7JK7uZarctAfodD6mXLqOIiACSECIiokhCiIgIIAkhIiKKthKCpC+VFyc9JOkWSa/vVGAREbFjtXuFMA840vZRwE+AC9oPKSIiBkJbt53avrNm9X7gtPbCiYjovM2bobu7eb3Xuk6OIXyUlx+iiIiInUzTK4T+XuRku/ex6guBHuDaftqZQfWeb8aMGbNdwUZExG9P04TQ34ucoJr5B/gAMKm8w7uvdmYCMwG6urr6rBcREQOjrTEESVOAzwB/aPv5zoQUEREDod0xhCuA3wXmlbk+v9mBmCIiYgC0e5fRYZ0KJCIiBlaeVI6I6BBJ+0qaJ2ll+R7RR73ppc7KMg7bW/5WSQ9LWiXpH8q8CEi6ofTCLJH0hKQlpXxiTflSSX9cyt9YU75E0rPl1dj9SkKIiOic84H5tscD82kwS5mkfalmO3sbMBG4qCZxfIPqbszx5TMFwPaf2T7G9jHA94CbS/1HgK5SPgX4R0lDbT9WU/+twPPALc2CT0KIiOicqcDssjwbOLVBnZOAebY32N5I9caHKWXKzb1t31fu2PxO/f7liuGDwHUAtp+33VM270HNHMw1JgH/ZftnzYJPQoiI6JwDylSYlO/9G9Q5GFhds95dyg4uy/Xltd4JPGV7ZW+BpLdJWgY8TDUrW0/dPtMoCaSZzJgWEfGykZIW1azPLM9QbdXfw7otHkMNytxPea0zqDu5214AHCHpTcBsSbfbfqHEOpxqDuaW3jOXhBARu7xNm2DNmpaqrrfd77ST/T2sK+kpSQfafrJ0Aa1tUK0bOKFmfTRwTykfXVe+NWpJQ4E/oRoTaBTXckm/oZqCszepnQw8aPup/n5Tr3QZRUR0zhyg966h6cCtDerMBSZLGlEGkycDc0sX068lvb2MFfx53f7vBVbY3tqtJGlcSRRI+j3gjcATNfu86oqiP0kIERGdcylwoqSVwIllHUldkq4CsL0B+AKwsHwuLmUAZwNXAauA/+KVLwxtNBbwB8DSchvqLcD/sb2+HHPPEsPNtChdRhERHWL7aaq7eurLFwEfq1mfBczqo96RfbT9kQZl1wDX9FH/eWC/FkMHcoUQERFFEkJERABJCBERUSQhREQEkIQQERFFEkJERABJCBERUeQ5hIjY5W3eDN3dzeu91uUKISIigCSEiIgokhAiIgJIQoiIiCIJISIigCSEiIgoOpIQJH1SkiWN7ER7ERE7I0n7SponaWX5HtFHvemlzkpJ02vKL5G0WtJzdfXfJelBST2STqvb9pKkJeUzp6Z8UtlniaQfSzqsWfxtJwRJh1BNwvDzdtuKiNjJnQ/Mtz0emF/WX0HSvsBFwNuAicBFNYnjB6Ws3s+BjwD/3GDbf9s+pnxOqSn/BvC/bB9T9vvbZsF34grhcuDTvHoy6IiI15qpwOyyPBs4tUGdk4B5tjfY3gjMA6YA2L6/TKX5CrafsP0QsGUbYjGwd1neh5r5mfvS1pPKkk4BfmF7aTUFaL91ZwAzAMaMGdPOYSMiBqsDek/otp+UtH+DOgcDq2vWu0vZ9tpD0iKgB7jU9vdL+ceA2yT9N/As8PZmDTVNCJJ+BLyhwaYLgc9STRDdlO2ZwEyArq6uXE1ExGA0spxce80s566tmpwTW9Hor+d2zoljbK+RdChwl6SHbf8X8NfA+2wvkPQp4CvUTOPZSNOEYPu9jcolvRkYRzXBM8Bo4EFJE23/ctt+T0TEb8/mzbCmaYcJAOttd/VXoa9zIoCkpyQdWK4ODgTWNqjWDZxQsz4auKel6BrHs6Z8Py7pHuAtkp4Fjra9oFS7AbijWVvbPYZg+2Hb+9sea3ss1Y88NskgIl7D5gC9dw1NB25tUGcuMFnSiDKYPLmUbbPSxu5leSRwPPAosBHYR9LhpeqJwPJm7eU5hIiIzrkUOFHSSqqT8KUAkrokXQVgewPwBWBh+VxcypD0RUndwJ6SuiX9XSk/rpSfDvyjpGXleG8CFklaCtxNNYbwqO0e4C+B75VtHwY+1Sx42Tu+O7+rq8sLFy5qXjEiXvN2202Lm3XjNDNyZJff//7m55zvfKf9Y+3McoUQERFAEkJERBRJCBERASQhREREkYQQERFAEkJERBRJCBERAbT5cruIiJ3Bpk3Q3T3QUQx+uUKIiAggCSEiIookhIiIAJIQIiKiSEKIiAggCSEiIookhIiIDpG0r6R5klaW7xF91Jte6qyUNL2m/BJJqyU9V1f/I5LWSVpSPh8r5e+uKVsi6QVJp5Zt75H0oKRHJM2W1PQxgySEiIjOOR+Yb3s8ML+sv4KkfYGLgLcBE4GLahLHD0pZIzfYPqZ8eifbubu3DHgP8Dxwp6TdgNnANNtHAj/j5Znc+pSEEBHROVOpTsSU71Mb1DkJmGd7g+2NwDxgCoDt+20/uZ3HPg243fbzwH7Ai7Z/UrbNA/60WQNJCBERnXNA7wm9fO/foM7BwOqa9e5S1syfSnpI0k2SDmmwfRpwXVleDwyT1Dv722lAo31eIa+uiIhd3ubNsGZNS1VHSqqda3Om7Zm1FST9CHhDg30vbDEcNShrNpfxD4DrbL8o6Syqq4/31MR0IPBmYC6AbUuaBlwuaXfgTqCnWWBJCBERL1vfbE5l2+/ta5ukpyQdaPvJcpJe26BaN3BCzfpo4J4mx3y6ZvWfgMvqqnwQuMX25pp97gPeWeKaDBze3zEgXUYREZ00h5cHb6cDtzaoMxeYLGlEGUyeXMr6VJJLr1OA5XVVzuDl7qLeffYv37sDnwG+2Sz4JISIiM65FDhR0krgxLKOpC5JvXcGbQC+ACwsn4tLGZK+KKkb2FNSt6S/K+3+laRlkpYCfwV8pPeAksZSjQ/cWxfLpyQtBx4CfmD7rmbBy27WddWkAelc4Byq/qkf2v50s326urq8cOGiZtUiIthtNy1u1o3TzOte1+WxY5ufc1asaP9YO7O2xhAkvZvqNqujymBHoxH1iIjYCbTbZXQ2cKntFwFsNxpAiYiInUC7CeFw4J2SFki6V9JxfVWUNEPSIkmL1q1b1+ZhIyKi05p2GTW553YoMAJ4O3AccKOkQ91gYKLcyzsTqjGEdoKOiIjOa5oQmtxzezZwc0kAD0jaAowEcgkQEbGTabfL6PuUp+UkHQ4Mp3pkOiIidjLtPqk8C5gl6RFgEzC9UXdRREQMfm0lBNubgA91KJaIiN+KTZugu3ugoxj88qRyREQASQgREVEkIUREBJCEEBERRRJCREQASQgREVEkIUREdIikfSXNk7SyfI/oo970UmelpOmlbE9JP5S0osx9cGlN/d0l3SBpVXl33NiabReU8scknVRTPqWUrZJ0fivxJyFERHTO+cB82+OB+WX9FSTtC1wEvA2YCFxUkzi+bPv3gbcAx0s6uZSfCWy0fRhwOWUKTUkTgGnAEcAU4OuShkgaAlwJnAxMAM4odfuVhBAR0TlTgdlleTZwaoM6JwHzbG+wvRGYB0yx/bztu2HrQ78PUs23XN/uTcAkSSrl19t+0fZPgVVUSWYisMr246Wt60vdfiUhRER0zgG2nwQo340mDTsYWF2z3l3KtpL0euCPqK4yXrGP7R7gGWC/ftpqeoxG2n2X0XZZvHjx+t1208861NxIBucL9QZrXDB4Y0tc22awxgWdje332m1gy5bFc597TiNbqLqHpNq5NmeWV/dv1WRKgFaoQdnWd8BJGgpcB/yD7ceb7NNXeaM/9pu+Z25AEoLtUZ1qS9KiwTgH6mCNCwZvbIlr2wzWuGDwxWZ7Sgfb6m9KgKckHWj7SUkHAo1mkewGTqhZHw3cU7M+E1hp+6t1+xwCdJeEsQ+woaa8tq01Zbmv8j6lyygionPmANPL8nTg1gZ15gKTJY0og8mTSxmS/p7qZP+Jfto9DbirvFl6DjCt3IU0DhgPPAAsBMZLGidpONXA85xmwQ/IFUJExC7qUqqZI88Efg6cDiCpCzjL9sdsb5D0BaqTNsDFpWw0VbfTCuDBasyYK2xfBVwNXCNpFdWVwTQA28sk3Qg8CvQAH7f9UjnmOVSJZggwy/ayZsFrZ5++QNKM+j6+wWCwxgWDN7bEtW0Ga1wwuGOLvu30CSEiIjojYwgREQHsQglB0rnlMe1lkr440PHUkvRJSZZauu3tt07Sl8rj8Q9JuqXc8zyQ8WzzI/Y7gqRDJN0taXn5d3XeQMdUqzyR+p+S/mWgY+kl6fWSbir/vpZLesdAxxSt2yUSgqR3Uz2Fd5TtI4AvD3BIW0k6BDiRaoBpsJgHHGn7KOAnwAUDFcj2PmK/g/QAf2P7TcDbgY8PotgAzgOWD3QQdb4G3FFev3A0gy++6McukRCAs4FLbb8IYLvRvb8D5XLg07TwUMiOYvvO8rQjwP28/Hj8QNiuR+x3BNtP2n6wLP+a6uTW9GnPHaHckfJ+4KqBjqWXpL2Bd1HdEYPtTbZ/NbBRxbbYVRLC4cA7y1sA75V03EAHBCDpFOAXtpcOdCz9+Chw+wAef7sesd/Rytsl3wIsGNhItvoq1R8aWwY6kBqHAuu0Mj1rAAABtUlEQVSAb5WurKsk7TXQQUXrdprnEJo8Lj4UGEF1WX8c1X3Ah3oH3ELVJK7PUj10ssP1F5ftW0udC6m6Ra7dkbHV6fcx/sFA0u8A3wM+YfvZQRDPB4C1thdLOmGg46kxFDgWONf2Aklfo3rb5+cGNqxo1U6TEJo8Ln42cHNJAA9I2kL1LpV1AxWXpDcD44Cl5QGT0VQPm0y0/cuBiqsmvunAB4BJOyJx9qO/R+8HnKRhVMngWts3D3Q8xfHAKZLeB+wB7C3pu7Y/NMBxdQPdtnuvom6iweufY/DaVbqMvg+8B0DS4cBwBvilX7Yftr2/7bG2x1L9Zzl2RySDZiRNAT4DnGL7+QEOZ7sesd8RyuuFrwaW2/7KQMfTy/YFtkeXf1fTqF5jMNDJgPJve7WkN5aiSVRP0MZOYqe5QmhiFjBL0iPAJmD6AP/VO9hdAewOzCtXL/fbPmsgArHdsz2P2O8gxwMfBh6WtKSUfdb2bQMY02B3LnBtSe6PA38xwPHENsiTyhERAew6XUYREdGmJISIiACSECIiokhCiIgIIAkhIiKKJISIiACSECIiokhCiIgIAP4/E3POYBfiUjkAAAAASUVORK5CYII=\n"
                        },
                        "metadata": {
                            "needs_background": "light"
                        }
                    }
                ]
            }
        },
        "ef124bff85394b568da6c5937e9957d8": {
            "model_name": "LayoutModel",
            "model_module": "@jupyter-widgets/base",
            "model_module_version": "1.1.0",
            "state": {}
        },
        "6c705d62554c48c8951fc35de6bb6156": {
            "model_name": "SliderStyleModel",
            "model_module": "@jupyter-widgets/controls",
            "model_module_version": "1.4.0",
            "state": {
                "description_width": ""
            }
        },
        "e3de8f9c55f04696ba625df91292b906": {
            "model_name": "FloatSliderModel",
            "model_module": "@jupyter-widgets/controls",
            "model_module_version": "1.4.0",
            "state": {
                "description": "M",
                "layout": "IPY_MODEL_ef124bff85394b568da6c5937e9957d8",
                "max": 0.3936,
                "step": 0.1,
                "style": "IPY_MODEL_6c705d62554c48c8951fc35de6bb6156"
            }
        },
        "1ef36470e4204167bf289759f325c34c": {
            "model_name": "LayoutModel",
            "model_module": "@jupyter-widgets/base",
            "model_module_version": "1.1.0",
            "state": {}
        },
        "d9e65805623e45a296f1fd1908b430ab": {
            "model_name": "VBoxModel",
            "model_module": "@jupyter-widgets/controls",
            "model_module_version": "1.4.0",
            "state": {
                "_dom_classes": [
                    "widget-interact"
                ],
                "children": [
                    "IPY_MODEL_e3de8f9c55f04696ba625df91292b906",
                    "IPY_MODEL_23b81549d5bc47819fa75d684d503a03"
                ],
                "layout": "IPY_MODEL_1ef36470e4204167bf289759f325c34c"
            }
        },
        "faf9137739784d8dad1c15ef328ea350": {
            "model_name": "LayoutModel",
            "model_module": "@jupyter-widgets/base",
            "model_module_version": "1.1.0",
            "state": {}
        },
        "23b81549d5bc47819fa75d684d503a03": {
            "model_name": "OutputModel",
            "model_module": "@jupyter-widgets/output",
            "model_module_version": "1.0.0",
            "state": {
                "layout": "IPY_MODEL_faf9137739784d8dad1c15ef328ea350",
                "outputs": [
                    {
                        "output_type": "display_data",
                        "data": {
                            "text/plain": "<Figure size 432x288 with 2 Axes>",
                            "image/png": "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\n"
                        },
                        "metadata": {
                            "needs_background": "light"
                        }
                    }
                ]
            }
        },
        "9be7609f08fc4dd1ba858bf2e578bca9": {
            "model_name": "LayoutModel",
            "model_module": "@jupyter-widgets/base",
            "model_module_version": "1.1.0",
            "state": {}
        },
        "7045b40756c04638a3d9201f3bbe55a3": {
            "model_name": "SliderStyleModel",
            "model_module": "@jupyter-widgets/controls",
            "model_module_version": "1.4.0",
            "state": {
                "description_width": ""
            }
        },
        "99920f58406e463c9a8ce677c06cb669": {
            "model_name": "FloatSliderModel",
            "model_module": "@jupyter-widgets/controls",
            "model_module_version": "1.4.0",
            "state": {
                "description": "M",
                "layout": "IPY_MODEL_9be7609f08fc4dd1ba858bf2e578bca9",
                "max": 0.3936,
                "step": 0.01,
                "style": "IPY_MODEL_7045b40756c04638a3d9201f3bbe55a3",
                "value": 0.1
            }
        },
        "88bcaa8b4b06480f8b6cd0558329d669": {
            "model_name": "LayoutModel",
            "model_module": "@jupyter-widgets/base",
            "model_module_version": "1.1.0",
            "state": {}
        },
        "c8dbaf809bfb433a989f08f658a1a222": {
            "model_name": "VBoxModel",
            "model_module": "@jupyter-widgets/controls",
            "model_module_version": "1.4.0",
            "state": {
                "_dom_classes": [
                    "widget-interact"
                ],
                "children": [
                    "IPY_MODEL_99920f58406e463c9a8ce677c06cb669",
                    "IPY_MODEL_1dcfeefe853147049d2f8b0415900ffc"
                ],
                "layout": "IPY_MODEL_88bcaa8b4b06480f8b6cd0558329d669"
            }
        },
        "e5435307a0ac4db794d0b2b9efb1fd36": {
            "model_name": "LayoutModel",
            "model_module": "@jupyter-widgets/base",
            "model_module_version": "1.1.0",
            "state": {}
        },
        "1dcfeefe853147049d2f8b0415900ffc": {
            "model_name": "OutputModel",
            "model_module": "@jupyter-widgets/output",
            "model_module_version": "1.0.0",
            "state": {
                "layout": "IPY_MODEL_e5435307a0ac4db794d0b2b9efb1fd36",
                "outputs": [
                    {
                        "output_type": "display_data",
                        "data": {
                            "text/plain": "<Figure size 432x288 with 2 Axes>",
                            "image/png": "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\n"
                        },
                        "metadata": {
                            "needs_background": "light"
                        }
                    }
                ]
            }
        },
        "118cd55e2b504d15aa4769843a0793b7": {
            "model_name": "LayoutModel",
            "model_module": "@jupyter-widgets/base",
            "model_module_version": "1.1.0",
            "state": {}
        },
        "93095562cbad4d86aac4b7aafdfbaa30": {
            "model_name": "SliderStyleModel",
            "model_module": "@jupyter-widgets/controls",
            "model_module_version": "1.4.0",
            "state": {
                "description_width": ""
            }
        },
        "ef51295973df42de83660686dc2b7ca5": {
            "model_name": "FloatSliderModel",
            "model_module": "@jupyter-widgets/controls",
            "model_module_version": "1.4.0",
            "state": {
                "description": "M",
                "layout": "IPY_MODEL_118cd55e2b504d15aa4769843a0793b7",
                "max": 0.3936,
                "step": 0.01,
                "style": "IPY_MODEL_93095562cbad4d86aac4b7aafdfbaa30",
                "value": 0.1968
            }
        },
        "b52ca9c2ca7741baab36d3a387757964": {
            "model_name": "LayoutModel",
            "model_module": "@jupyter-widgets/base",
            "model_module_version": "1.1.0",
            "state": {}
        },
        "9ff6d18e13314388ae96fd606eab5469": {
            "model_name": "VBoxModel",
            "model_module": "@jupyter-widgets/controls",
            "model_module_version": "1.4.0",
            "state": {
                "_dom_classes": [
                    "widget-interact"
                ],
                "children": [
                    "IPY_MODEL_ef51295973df42de83660686dc2b7ca5",
                    "IPY_MODEL_5949482a7f5e4852b540b5f3cf083e38"
                ],
                "layout": "IPY_MODEL_b52ca9c2ca7741baab36d3a387757964"
            }
        },
        "a2c2241509284de5b8cbead36d9003a4": {
            "model_name": "LayoutModel",
            "model_module": "@jupyter-widgets/base",
            "model_module_version": "1.1.0",
            "state": {}
        },
        "5949482a7f5e4852b540b5f3cf083e38": {
            "model_name": "OutputModel",
            "model_module": "@jupyter-widgets/output",
            "model_module_version": "1.0.0",
            "state": {
                "layout": "IPY_MODEL_a2c2241509284de5b8cbead36d9003a4",
                "outputs": [
                    {
                        "output_type": "error",
                        "ename": "TypeError",
                        "evalue": "__init__() got an unexpected keyword argument 'title'",
                        "traceback": [
                            "\u001b[0;31m---------------------------------------------------------------------------\u001b[0m",
                            "\u001b[0;31mTypeError\u001b[0m                                 Traceback (most recent call last)",
                            "\u001b[0;32m~/anaconda3/lib/python3.7/site-packages/ipywidgets/widgets/interaction.py\u001b[0m in \u001b[0;36mupdate\u001b[0;34m(self, *args)\u001b[0m\n\u001b[1;32m    249\u001b[0m                     \u001b[0mvalue\u001b[0m \u001b[0;34m=\u001b[0m \u001b[0mwidget\u001b[0m\u001b[0;34m.\u001b[0m\u001b[0mget_interact_value\u001b[0m\u001b[0;34m(\u001b[0m\u001b[0;34m)\u001b[0m\u001b[0;34m\u001b[0m\u001b[0;34m\u001b[0m\u001b[0m\n\u001b[1;32m    250\u001b[0m                     \u001b[0mself\u001b[0m\u001b[0;34m.\u001b[0m\u001b[0mkwargs\u001b[0m\u001b[0;34m[\u001b[0m\u001b[0mwidget\u001b[0m\u001b[0;34m.\u001b[0m\u001b[0m_kwarg\u001b[0m\u001b[0;34m]\u001b[0m \u001b[0;34m=\u001b[0m \u001b[0mvalue\u001b[0m\u001b[0;34m\u001b[0m\u001b[0;34m\u001b[0m\u001b[0m\n\u001b[0;32m--> 251\u001b[0;31m                 \u001b[0mself\u001b[0m\u001b[0;34m.\u001b[0m\u001b[0mresult\u001b[0m \u001b[0;34m=\u001b[0m \u001b[0mself\u001b[0m\u001b[0;34m.\u001b[0m\u001b[0mf\u001b[0m\u001b[0;34m(\u001b[0m\u001b[0;34m**\u001b[0m\u001b[0mself\u001b[0m\u001b[0;34m.\u001b[0m\u001b[0mkwargs\u001b[0m\u001b[0;34m)\u001b[0m\u001b[0;34m\u001b[0m\u001b[0;34m\u001b[0m\u001b[0m\n\u001b[0m\u001b[1;32m    252\u001b[0m                 \u001b[0mshow_inline_matplotlib_plots\u001b[0m\u001b[0;34m(\u001b[0m\u001b[0;34m)\u001b[0m\u001b[0;34m\u001b[0m\u001b[0;34m\u001b[0m\u001b[0m\n\u001b[1;32m    253\u001b[0m                 \u001b[0;32mif\u001b[0m \u001b[0mself\u001b[0m\u001b[0;34m.\u001b[0m\u001b[0mauto_display\u001b[0m \u001b[0;32mand\u001b[0m \u001b[0mself\u001b[0m\u001b[0;34m.\u001b[0m\u001b[0mresult\u001b[0m \u001b[0;32mis\u001b[0m \u001b[0;32mnot\u001b[0m \u001b[0;32mNone\u001b[0m\u001b[0;34m:\u001b[0m\u001b[0;34m\u001b[0m\u001b[0;34m\u001b[0m\u001b[0m\n",
                            "\u001b[0;32m<ipython-input-20-be4e49be0571>\u001b[0m in \u001b[0;36mcalc_deformation_2Ddisk\u001b[0;34m(M)\u001b[0m\n\u001b[1;32m     46\u001b[0m     \u001b[0mplt\u001b[0m\u001b[0;34m.\u001b[0m\u001b[0mfigure\u001b[0m\u001b[0;34m(\u001b[0m\u001b[0;34m)\u001b[0m\u001b[0;34m\u001b[0m\u001b[0;34m\u001b[0m\u001b[0m\n\u001b[1;32m     47\u001b[0m     \u001b[0mplt\u001b[0m\u001b[0;34m.\u001b[0m\u001b[0mcontourf\u001b[0m\u001b[0;34m(\u001b[0m\u001b[0mX\u001b[0m\u001b[0;34m/\u001b[0m\u001b[0;36m1000\u001b[0m\u001b[0;34m,\u001b[0m\u001b[0mY\u001b[0m\u001b[0;34m/\u001b[0m\u001b[0;36m1000\u001b[0m\u001b[0;34m,\u001b[0m\u001b[0mdefm\u001b[0m\u001b[0;34m,\u001b[0m\u001b[0mcmap\u001b[0m\u001b[0;34m=\u001b[0m\u001b[0;34m'bwr'\u001b[0m\u001b[0;34m,\u001b[0m \u001b[0mlevels\u001b[0m\u001b[0;34m=\u001b[0m\u001b[0mnp\u001b[0m\u001b[0;34m.\u001b[0m\u001b[0mlinspace\u001b[0m\u001b[0;34m(\u001b[0m\u001b[0;34m-\u001b[0m\u001b[0;36m0.02\u001b[0m\u001b[0;34m,\u001b[0m\u001b[0;36m0.02\u001b[0m\u001b[0;34m,\u001b[0m\u001b[0mnum\u001b[0m\u001b[0;34m=\u001b[0m\u001b[0;36m20\u001b[0m\u001b[0;34m)\u001b[0m\u001b[0;34m)\u001b[0m\u001b[0;34m\u001b[0m\u001b[0;34m\u001b[0m\u001b[0m\n\u001b[0;32m---> 48\u001b[0;31m     \u001b[0mplt\u001b[0m\u001b[0;34m.\u001b[0m\u001b[0mcolorbar\u001b[0m\u001b[0;34m(\u001b[0m\u001b[0mtitle\u001b[0m\u001b[0;34m=\u001b[0m\u001b[0;34m'Deformation in metres'\u001b[0m\u001b[0;34m)\u001b[0m\u001b[0;34m\u001b[0m\u001b[0;34m\u001b[0m\u001b[0m\n\u001b[0m\u001b[1;32m     49\u001b[0m     \u001b[0mplt\u001b[0m\u001b[0;34m.\u001b[0m\u001b[0mshow\u001b[0m\u001b[0;34m(\u001b[0m\u001b[0;34m)\u001b[0m\u001b[0;34m\u001b[0m\u001b[0;34m\u001b[0m\u001b[0m\n",
                            "\u001b[0;32m~/anaconda3/lib/python3.7/site-packages/matplotlib/pyplot.py\u001b[0m in \u001b[0;36mcolorbar\u001b[0;34m(mappable, cax, ax, **kw)\u001b[0m\n\u001b[1;32m   2318\u001b[0m         \u001b[0max\u001b[0m \u001b[0;34m=\u001b[0m \u001b[0mgca\u001b[0m\u001b[0;34m(\u001b[0m\u001b[0;34m)\u001b[0m\u001b[0;34m\u001b[0m\u001b[0;34m\u001b[0m\u001b[0m\n\u001b[1;32m   2319\u001b[0m \u001b[0;34m\u001b[0m\u001b[0m\n\u001b[0;32m-> 2320\u001b[0;31m     \u001b[0mret\u001b[0m \u001b[0;34m=\u001b[0m \u001b[0mgcf\u001b[0m\u001b[0;34m(\u001b[0m\u001b[0;34m)\u001b[0m\u001b[0;34m.\u001b[0m\u001b[0mcolorbar\u001b[0m\u001b[0;34m(\u001b[0m\u001b[0mmappable\u001b[0m\u001b[0;34m,\u001b[0m \u001b[0mcax\u001b[0m \u001b[0;34m=\u001b[0m \u001b[0mcax\u001b[0m\u001b[0;34m,\u001b[0m \u001b[0max\u001b[0m\u001b[0;34m=\u001b[0m\u001b[0max\u001b[0m\u001b[0;34m,\u001b[0m \u001b[0;34m**\u001b[0m\u001b[0mkw\u001b[0m\u001b[0;34m)\u001b[0m\u001b[0;34m\u001b[0m\u001b[0;34m\u001b[0m\u001b[0m\n\u001b[0m\u001b[1;32m   2321\u001b[0m     \u001b[0;32mreturn\u001b[0m \u001b[0mret\u001b[0m\u001b[0;34m\u001b[0m\u001b[0;34m\u001b[0m\u001b[0m\n\u001b[1;32m   2322\u001b[0m \u001b[0mcolorbar\u001b[0m\u001b[0;34m.\u001b[0m\u001b[0m__doc__\u001b[0m \u001b[0;34m=\u001b[0m \u001b[0mmatplotlib\u001b[0m\u001b[0;34m.\u001b[0m\u001b[0mcolorbar\u001b[0m\u001b[0;34m.\u001b[0m\u001b[0mcolorbar_doc\u001b[0m\u001b[0;34m\u001b[0m\u001b[0;34m\u001b[0m\u001b[0m\n",
                            "\u001b[0;32m~/anaconda3/lib/python3.7/site-packages/matplotlib/figure.py\u001b[0m in \u001b[0;36mcolorbar\u001b[0;34m(self, mappable, cax, ax, use_gridspec, **kw)\u001b[0m\n\u001b[1;32m   2096\u001b[0m                              'panchor']\n\u001b[1;32m   2097\u001b[0m         \u001b[0mcb_kw\u001b[0m \u001b[0;34m=\u001b[0m \u001b[0;34m{\u001b[0m\u001b[0mk\u001b[0m\u001b[0;34m:\u001b[0m \u001b[0mv\u001b[0m \u001b[0;32mfor\u001b[0m \u001b[0mk\u001b[0m\u001b[0;34m,\u001b[0m \u001b[0mv\u001b[0m \u001b[0;32min\u001b[0m \u001b[0mkw\u001b[0m\u001b[0;34m.\u001b[0m\u001b[0mitems\u001b[0m\u001b[0;34m(\u001b[0m\u001b[0;34m)\u001b[0m \u001b[0;32mif\u001b[0m \u001b[0mk\u001b[0m \u001b[0;32mnot\u001b[0m \u001b[0;32min\u001b[0m \u001b[0mNON_COLORBAR_KEYS\u001b[0m\u001b[0;34m}\u001b[0m\u001b[0;34m\u001b[0m\u001b[0;34m\u001b[0m\u001b[0m\n\u001b[0;32m-> 2098\u001b[0;31m         \u001b[0mcb\u001b[0m \u001b[0;34m=\u001b[0m \u001b[0mcbar\u001b[0m\u001b[0;34m.\u001b[0m\u001b[0mcolorbar_factory\u001b[0m\u001b[0;34m(\u001b[0m\u001b[0mcax\u001b[0m\u001b[0;34m,\u001b[0m \u001b[0mmappable\u001b[0m\u001b[0;34m,\u001b[0m \u001b[0;34m**\u001b[0m\u001b[0mcb_kw\u001b[0m\u001b[0;34m)\u001b[0m\u001b[0;34m\u001b[0m\u001b[0;34m\u001b[0m\u001b[0m\n\u001b[0m\u001b[1;32m   2099\u001b[0m \u001b[0;34m\u001b[0m\u001b[0m\n\u001b[1;32m   2100\u001b[0m         \u001b[0mself\u001b[0m\u001b[0;34m.\u001b[0m\u001b[0msca\u001b[0m\u001b[0;34m(\u001b[0m\u001b[0mcurrent_ax\u001b[0m\u001b[0;34m)\u001b[0m\u001b[0;34m\u001b[0m\u001b[0;34m\u001b[0m\u001b[0m\n",
                            "\u001b[0;32m~/anaconda3/lib/python3.7/site-packages/matplotlib/colorbar.py\u001b[0m in \u001b[0;36mcolorbar_factory\u001b[0;34m(cax, mappable, **kwargs)\u001b[0m\n\u001b[1;32m   1397\u001b[0m         \u001b[0mcb\u001b[0m \u001b[0;34m=\u001b[0m \u001b[0mColorbarPatch\u001b[0m\u001b[0;34m(\u001b[0m\u001b[0mcax\u001b[0m\u001b[0;34m,\u001b[0m \u001b[0mmappable\u001b[0m\u001b[0;34m,\u001b[0m \u001b[0;34m**\u001b[0m\u001b[0mkwargs\u001b[0m\u001b[0;34m)\u001b[0m\u001b[0;34m\u001b[0m\u001b[0;34m\u001b[0m\u001b[0m\n\u001b[1;32m   1398\u001b[0m     \u001b[0;32melse\u001b[0m\u001b[0;34m:\u001b[0m\u001b[0;34m\u001b[0m\u001b[0;34m\u001b[0m\u001b[0m\n\u001b[0;32m-> 1399\u001b[0;31m         \u001b[0mcb\u001b[0m \u001b[0;34m=\u001b[0m \u001b[0mColorbar\u001b[0m\u001b[0;34m(\u001b[0m\u001b[0mcax\u001b[0m\u001b[0;34m,\u001b[0m \u001b[0mmappable\u001b[0m\u001b[0;34m,\u001b[0m \u001b[0;34m**\u001b[0m\u001b[0mkwargs\u001b[0m\u001b[0;34m)\u001b[0m\u001b[0;34m\u001b[0m\u001b[0;34m\u001b[0m\u001b[0m\n\u001b[0m\u001b[1;32m   1400\u001b[0m \u001b[0;34m\u001b[0m\u001b[0m\n\u001b[1;32m   1401\u001b[0m     \u001b[0mcid\u001b[0m \u001b[0;34m=\u001b[0m \u001b[0mmappable\u001b[0m\u001b[0;34m.\u001b[0m\u001b[0mcallbacksSM\u001b[0m\u001b[0;34m.\u001b[0m\u001b[0mconnect\u001b[0m\u001b[0;34m(\u001b[0m\u001b[0;34m'changed'\u001b[0m\u001b[0;34m,\u001b[0m \u001b[0mcb\u001b[0m\u001b[0;34m.\u001b[0m\u001b[0mon_mappable_changed\u001b[0m\u001b[0;34m)\u001b[0m\u001b[0;34m\u001b[0m\u001b[0;34m\u001b[0m\u001b[0m\n",
                            "\u001b[0;32m~/anaconda3/lib/python3.7/site-packages/matplotlib/colorbar.py\u001b[0m in \u001b[0;36m__init__\u001b[0;34m(self, ax, mappable, **kw)\u001b[0m\n\u001b[1;32m    933\u001b[0m             \u001b[0mkw\u001b[0m\u001b[0;34m.\u001b[0m\u001b[0msetdefault\u001b[0m\u001b[0;34m(\u001b[0m\u001b[0;34m'ticks'\u001b[0m\u001b[0;34m,\u001b[0m \u001b[0mticker\u001b[0m\u001b[0;34m.\u001b[0m\u001b[0mFixedLocator\u001b[0m\u001b[0;34m(\u001b[0m\u001b[0mCS\u001b[0m\u001b[0;34m.\u001b[0m\u001b[0mlevels\u001b[0m\u001b[0;34m,\u001b[0m \u001b[0mnbins\u001b[0m\u001b[0;34m=\u001b[0m\u001b[0;36m10\u001b[0m\u001b[0;34m)\u001b[0m\u001b[0;34m)\u001b[0m\u001b[0;34m\u001b[0m\u001b[0;34m\u001b[0m\u001b[0m\n\u001b[1;32m    934\u001b[0m             \u001b[0mkw\u001b[0m\u001b[0;34m[\u001b[0m\u001b[0;34m'filled'\u001b[0m\u001b[0;34m]\u001b[0m \u001b[0;34m=\u001b[0m \u001b[0mCS\u001b[0m\u001b[0;34m.\u001b[0m\u001b[0mfilled\u001b[0m\u001b[0;34m\u001b[0m\u001b[0;34m\u001b[0m\u001b[0m\n\u001b[0;32m--> 935\u001b[0;31m             \u001b[0mColorbarBase\u001b[0m\u001b[0;34m.\u001b[0m\u001b[0m__init__\u001b[0m\u001b[0;34m(\u001b[0m\u001b[0mself\u001b[0m\u001b[0;34m,\u001b[0m \u001b[0max\u001b[0m\u001b[0;34m,\u001b[0m \u001b[0;34m**\u001b[0m\u001b[0mkw\u001b[0m\u001b[0;34m)\u001b[0m\u001b[0;34m\u001b[0m\u001b[0;34m\u001b[0m\u001b[0m\n\u001b[0m\u001b[1;32m    936\u001b[0m             \u001b[0;32mif\u001b[0m \u001b[0;32mnot\u001b[0m \u001b[0mCS\u001b[0m\u001b[0;34m.\u001b[0m\u001b[0mfilled\u001b[0m\u001b[0;34m:\u001b[0m\u001b[0;34m\u001b[0m\u001b[0;34m\u001b[0m\u001b[0m\n\u001b[1;32m    937\u001b[0m                 \u001b[0mself\u001b[0m\u001b[0;34m.\u001b[0m\u001b[0madd_lines\u001b[0m\u001b[0;34m(\u001b[0m\u001b[0mCS\u001b[0m\u001b[0;34m)\u001b[0m\u001b[0;34m\u001b[0m\u001b[0;34m\u001b[0m\u001b[0m\n",
                            "\u001b[0;31mTypeError\u001b[0m: __init__() got an unexpected keyword argument 'title'"
                        ]
                    }
                ]
            }
        },
        "707011aecce949c397d8738c23aa7a3e": {
            "model_name": "LayoutModel",
            "model_module": "@jupyter-widgets/base",
            "model_module_version": "1.1.0",
            "state": {}
        },
        "24d6d9b0565f4c1caa51083778a79124": {
            "model_name": "SliderStyleModel",
            "model_module": "@jupyter-widgets/controls",
            "model_module_version": "1.4.0",
            "state": {
                "description_width": ""
            }
        },
        "29dfce1f690a4d1f877769b6a07a8d0d": {
            "model_name": "FloatSliderModel",
            "model_module": "@jupyter-widgets/controls",
            "model_module_version": "1.4.0",
            "state": {
                "description": "M",
                "layout": "IPY_MODEL_707011aecce949c397d8738c23aa7a3e",
                "max": 0.3936,
                "step": 0.01,
                "style": "IPY_MODEL_24d6d9b0565f4c1caa51083778a79124",
                "value": 0.25
            }
        },
        "a5283c72ae424f53a725c25e9e597864": {
            "model_name": "LayoutModel",
            "model_module": "@jupyter-widgets/base",
            "model_module_version": "1.1.0",
            "state": {}
        },
        "7db0c25d9e2649fc942a32b34ec3e071": {
            "model_name": "VBoxModel",
            "model_module": "@jupyter-widgets/controls",
            "model_module_version": "1.4.0",
            "state": {
                "_dom_classes": [
                    "widget-interact"
                ],
                "children": [
                    "IPY_MODEL_29dfce1f690a4d1f877769b6a07a8d0d",
                    "IPY_MODEL_e78977af73564925b3a05648dc4fbdce"
                ],
                "layout": "IPY_MODEL_a5283c72ae424f53a725c25e9e597864"
            }
        },
        "a2696de29bda4bf2b0acfb44d0f591cd": {
            "model_name": "LayoutModel",
            "model_module": "@jupyter-widgets/base",
            "model_module_version": "1.1.0",
            "state": {}
        },
        "e78977af73564925b3a05648dc4fbdce": {
            "model_name": "OutputModel",
            "model_module": "@jupyter-widgets/output",
            "model_module_version": "1.0.0",
            "state": {
                "layout": "IPY_MODEL_a2696de29bda4bf2b0acfb44d0f591cd",
                "outputs": [
                    {
                        "output_type": "display_data",
                        "data": {
                            "text/plain": "<Figure size 432x288 with 2 Axes>",
                            "image/png": "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\n"
                        },
                        "metadata": {
                            "needs_background": "light"
                        }
                    }
                ]
            }
        },
        "e9d5cab4d25f4ea9ab2704f2f93fd6a3": {
            "model_name": "LayoutModel",
            "model_module": "@jupyter-widgets/base",
            "model_module_version": "1.1.0",
            "state": {}
        },
        "72892fccb1194dc6ae9dc37326b9ab4a": {
            "model_name": "SliderStyleModel",
            "model_module": "@jupyter-widgets/controls",
            "model_module_version": "1.4.0",
            "state": {
                "description_width": ""
            }
        },
        "961822845e804a8dbe23819856df4957": {
            "model_name": "FloatSliderModel",
            "model_module": "@jupyter-widgets/controls",
            "model_module_version": "1.4.0",
            "state": {
                "description": "M",
                "layout": "IPY_MODEL_e9d5cab4d25f4ea9ab2704f2f93fd6a3",
                "max": 0.3936,
                "step": 0.01,
                "style": "IPY_MODEL_72892fccb1194dc6ae9dc37326b9ab4a",
                "value": 0.16
            }
        },
        "de115a7feb4049c58f2a065050a5e4e0": {
            "model_name": "LayoutModel",
            "model_module": "@jupyter-widgets/base",
            "model_module_version": "1.1.0",
            "state": {}
        },
        "8c5ab77e37144cb58b477d9af8d67b05": {
            "model_name": "VBoxModel",
            "model_module": "@jupyter-widgets/controls",
            "model_module_version": "1.4.0",
            "state": {
                "_dom_classes": [
                    "widget-interact"
                ],
                "children": [
                    "IPY_MODEL_961822845e804a8dbe23819856df4957",
                    "IPY_MODEL_53c3f1ffa7cd45bbb85d2b4ffe181b85"
                ],
                "layout": "IPY_MODEL_de115a7feb4049c58f2a065050a5e4e0"
            }
        },
        "58f59d64612f4ae8a9a7d82636885d56": {
            "model_name": "LayoutModel",
            "model_module": "@jupyter-widgets/base",
            "model_module_version": "1.1.0",
            "state": {}
        },
        "53c3f1ffa7cd45bbb85d2b4ffe181b85": {
            "model_name": "OutputModel",
            "model_module": "@jupyter-widgets/output",
            "model_module_version": "1.0.0",
            "state": {
                "layout": "IPY_MODEL_58f59d64612f4ae8a9a7d82636885d56",
                "outputs": [
                    {
                        "output_type": "display_data",
                        "data": {
                            "text/plain": "<Figure size 432x288 with 2 Axes>",
                            "image/png": "iVBORw0KGgoAAAANSUhEUgAAAaAAAAEKCAYAAABUsYHRAAAABHNCSVQICAgIfAhkiAAAAAlwSFlzAAALEgAACxIB0t1+/AAAADl0RVh0U29mdHdhcmUAbWF0cGxvdGxpYiB2ZXJzaW9uIDIuMi4zLCBodHRwOi8vbWF0cGxvdGxpYi5vcmcvIxREBQAAIABJREFUeJzt3Xm8HFWd9/HPNxub7AEFQkyQoARExEvQh1FBJARkCI6gwS0qijCA4IwLyCgK8jzgAurgloFoZJBFFokKhICAiixJMBCWYDK4cAWBGIYdkpDv80edDp1O3+7qvt23+t7+vV+vfnXX6VNVp/r2rV+fU6fOkW1CCCGEgTas6AKEEELoThGAQgghFCICUAghhEJEAAohhFCICEAhhBAKEQEohBBCISIAhRBCKEQEoBBCCIWIABRCCKEQI4ouQCNGjx7tcePGFV2MEMIgsGDBgmW2t+rPNqaMGOFlOUaLWbB69RzbU/qzr240qALQuHHjmDdvftHFCCEMAsOG6S/93cYym/kbblg3n555ZnR/99WNogkuhBBCISIAhRBCKEQEoBBCCIWIABRCCKEQEYBCCCEUIgJQCCGEQkQACiGEASBpiqQHJC2VdFKV99eTdEl6/3ZJ41L6lpJulPSMpHPL8m8saWHZY5mkb6X3xqZ1/iDpbkkHpfRRkn4kaZGkuyTtMyAH34dBdR9QCCEMRpKGA98F9gd6gXmSZtu+ryzbkcATtneUNA04C3gf8ALwRWDX9ADA9tPA7mX7WABckRb/A7jU9vclTQSuBsYBn0jrvl7S1sA1kva0vboNh11X1IBCCKH9JgFLbT9oewVwMTC1Is9UYFZ6fRmwnyTZftb278gCUVWSJgBbA79NSQY2Sa83BR5OrycCNwDYfgz4X6CnPwfWHxGAQgih/bYDHipb7k1pVfPYXgU8CWyZc/tHAJfYa8YN+jLwQUm9ZLWf41P6XcBUSSMkjQfeBGzf2KG0TqFNcJI2A84jq1Ya+JjtW4ssUwghrDFqFIwZUz/f4sWjJZWPEzbD9oyyZVVZq3KQuTx5+jIN+FDZ8hHAj21/U9JbgAsk7QrMBHYG5gN/AX4PrMq5j5Yr+hrQt4FrbR8maRRQf9ClEELoPMts12rK6mXtmsYYXm4Wq8zTK2kEWdPZ8no7lvQGYITtBWXJRwJTAGzfKml9YHRqdvt02bq/B5bU20e7FNYEJ2kT4G3A+QC2V9j+36LKE0IIbTQPmCBpfPqxPQ2YXZFnNjA9vT4M+HVZk1otRwAXVaT9FdgPQNLOwPrA45I2lLRRSt8fWFXREWJAFVkD2gF4HPhRiuALgBNsP1tgmUIIoeVsr5J0HDAHGA7MtH2vpNOA+bZnk/0Yv0DSUrKaz7TS+pL+TNapYJSkQ4HJZYHjvcBBFbv8d+C/JH2arBnvI7ader7NkbQa+BtrN9sNOOULsG3YsdQD3Absbft2Sd8GnrL9xYp8RwFHAYwdO/ZNf/5zv0dYDyF0gWHDtKBOs1hdPRts4Pk55iDT4sX93lc3KrIXXC/Qa/v2tHwZsEdlJtszbPfY7tlqq37NLRVCCKGDFBaAbP8deEjSa1PSfkBhbZEhhBAGVtG94I4HLkwX5R4EPlpweUIIIQyQQgOQ7YUUeBduCCGE4sRICCGEEAoRASiEEEIhIgCFEEIoRNGdEEIIoXONHAnbbls/3+LF7S/LEBQ1oBBCCIWIABRCCKEQEYBCCCEUIgJQCCGEQkQACiGEUIgIQCGEEAoRASiEEAaApCmSHpC0VNJJVd5fT9Il6f3bJY1L6VtKulHSM5LOrVjnWkl3SbpX0g8kDS977/i0v3slfS2ljZQ0S9IiSfdLOrm9R11bBKAQQmizFBi+CxwITASOkDSxItuRwBO2dwTOAc5K6S8AXwQ+U2XT77X9BmBXYCvg8LS/fYGpwG62dwG+kfIfDqxn+/XAm4BPlgJdESIAhRBC+00Cltp+0PYK4GKyAFFuKjArvb4M2E+SbD9r+3dkgWgttp9KL0cAo8hmPwU4BjjT9osp32OlVYCNJI0ANgBWAE9RkAhAIYTQftsBD5Ut96a0qnlsrwKeBLast2FJc4DHgKfJAhfATsBbU1PezZL2TOmXAc8CjwB/Bb5he3lTR9QCMRRP6AgPP1zMfvOMshK62KhRMGZMnpyjJc0vW55he0bZsqqs44rlPHnWzWAfIGl94ELgHcBcsnP75sCbgT2BSyXtQFYTewnYNr3/W0nX236w3n7aIQJQGFBFBZq+9FWeCEyhQcts15rbrBfYvmx5DFD57Svl6U1NZJsCuWontl+QNJusGW9u2tYVtg3cIWk1MBp4P3Ct7ZXAY5JuIZuTrZAAFE1woW0efnjdx2AxWMsdOtY8YIKk8WkG6GnA7Io8s4Hp6fVhwK9TAKlK0iskbZNejwAOAkqjov6crDaEpJ3Irg8tI2t2e4cyG5HVkAobSTVqQKFlhvKJuvLYooYUGmF7laTjgDnAcGCm7XslnQbMtz0bOB+4QNJSsprPtNL6kv4MbAKMknQoMBn4BzBb0nppm78GfpBWmQnMlHQPWUeD6bYt6bvAj4B7yJr8fmT77jYffp8iAIV+GcpBp5YISKFRtq8Grq5I+1LZ6xdI3airrDuuj83uWS0x9bT7YJX0Z/raRxEiAIWGdWvQqaX8M4lgFEI+EYBCLhF08it9VhGIQqgtAlCoKQJP86JWFEJthQegNETFfOBvtg8uujwhgk47RK0ohHUVHoCAE4D7yXp4hAJF4Gm/qBWF8LJC7wOSNAZ4F3BekeXodnGvSzHicw/druga0LeAzwEbF1yOrhQnv84QzXOhWxUWgCQdDDxme4GkfWrkOwo4CmDs2LEDVLqhLQJPZ3r44QhCHWfkyPijtFGRTXB7A4ekO3wvJhse4r8rM9meYbvHds9WW2010GUcciL4dLZolgvdpLAAZPtk22PSHb7TyMY9WufO3dAacWIbXOLvFbpB0deAQpvFSWxwi+tDYSjriNGwbd8U9wC1XgSfoSP+lmEoihrQEBQnq6EpakNhqOmIGlBonQg+Q1/8jcNQEQFoiIiL1t0l/taDj6Qpkh6QtFTSSVXeX0/SJen92yWNK3vv5JT+gKQDytJPkHSPpHslnVhlm5+RZEmj0/JnJS1Mj3skvSRpi/YccX0RgIaAOBl1p/jRMXikMS+/CxwITASOkDSxItuRwBO2dwTOAc5K604k6ym8CzAF+J6k4ZJ2BT4BTALeABwsaULZPrcH9iebBRUA21+3vbvt3YGTgZtt55r2ux0iAA1ycQIK8R0YFCYBS20/mCaLuxiYWpFnKjArvb4M2E+SUvrFtl+0/SdgadrezsBttp+zvQq4GXh32fbOIRtppq9pvY8ALur/oTUvAtAgFieeUBLfhY63HfBQ2XJvSquaJwWUJ4Eta6x7D/A2SVtK2hA4CNgeQNIhZDMM3FWtMCn/FODy/h1W/0QvuEEqTjihUgzl0wYjR8KYMXlyjpY0v2x5hu0ZZcuqsk5lzaSvPFXTbd8v6SxgLvAMcBewKgWXU4DJNcr7z8AtRTa/QQSgQScCT6glglBhltnuqfF+L6l2kowBKv+bS3l6JY0ANgWW11rX9vnA+QCS/m/K+xpgPHBX1oLHGOBOSZNs/z1tYxoFN79BNMENKhF8Qh7xPelI84AJksZLGkUWAGZX5JkNTE+vDyMbnswpfVrqJTcemADcASBp6/Q8FvgX4CLbi2xvbXtcGuqsF9ijFHwkbQq8HbiqfYebT9SABok4qYRGRE2os9heJek4YA4wHJhp+15JpwHzbc8mq8lcIGkpWc1nWlr3XkmXAvcBq4Bjbb+UNn25pC2BlSn9iRzFeTdwne1nW3mMzYgANAhE8AnNiCDUWWxfDVxdkfalstcvAIf3se4ZwBlV0t+aY7/jKpZ/DPw4R5HbLprgOlwEn9Af8f0JnSwCUAeLk0dohfgehU4VAahDxUkjtFJ8n0InigAUQpeIIBQ6TQSgDhQnitAu8d0KnSQCUIeJE0Rot/iOhU4RAaiDxIkhDJT4roVOEPcBdYg4IYTQgUaNipupapB0MHA68GqyeCKyceo2ybN+1IBC6FLxoye0wLfIhg/a0vYmtjfOG3wgAlBHiBNBKEp890I/PQTck8asa1g0wRUsTgChaDFkT+iHzwFXS7oZeLGUaPvsPCsXVgOStL2kGyXdn+YzP6GosoQQQmjKGcBzwPrAxmWPXIqsAa0C/t32nZI2BhZImmv7vgLLNKCi9hM6RdSCQpO2sF1r4ruaCqsB2X7E9p3p9dPA/aw7Re2QFcEnhDAEXC9p8AWgcpLGAW8Ebi+2JCF0r/hR1F6Spkh6QNJSSSdVeX89SZek929P58XSeyen9AckHVCW/mdJiyQtLJ8SXNLXJS2WdLekKyVtVvbebpJuTZc+Fklavx+HdSxwraTnJT0l6WlJT+VduW4AknSwpD9IWt7MDnJs/xXA5cCJttfZrqSjJM2XNP/xxx9v1W4LFf/ooVPFd7M9JA0HvgscCEwEjpA0sSLbkcATtncEzgHOSutOJJucbhdgCvC9tL2SfW3vXjEl+FxgV9u7AX8ETk7bGgH8N3C07V2Afcgms2tK6nY9zPYG7eqG3a9+3rVIGkkWfC60fUW1PLZn2O6x3bPVVlu1YrchhDDQJgFLbT9oewVwMTC1Is9UYFZ6fRmwnySl9Ittv2j7T8DStL0+2b7O9qq0eBswJr2eDNxt+66U7x9ls6sOuDwBqF/9vPuSPtjzgfvzdtkbCuIXZuh08R1tyuhSS016HFXx/nZk59KSXta95r0mTwoeTwJb1lnXwHWSFlTZZ8nHgGvS650AS5oj6U5Jn8t/iK2Xpxdcv/p517A38CFgkaSFKe0LadraEEIo3siRMGZM/XywrKIJrJKqpFX+qO8rT61197b9sKStgbmSFtv+zZoNSqeQ9Ti+MCWNAP4J2JOs+/QNkhbYvqFG2dsmTwA6A3iGrJ/3qFbt2PbvqP7BDlnxyzIMFtEtu+V6ge3LlscAlWeEUp7edK1mU2B5rXVtl54fk3QlWdPcbwAkTQcOBvYra8HqBW62vSzluRrYA2goAKUOD7eQ1axusv1CI+uX5AlA/ernHUJ/9Tdwx4k0dIB5wARJ44G/kXUqeH9Fntlk19tvBQ4Dfm3bkmYDP5V0NrAtMAG4Q9JGwDDbT6fXk4HTIOtxB3weeLvt58r2MQf4nKQNgRXA28k6PDTqzWQ1qSnAVyT9I237Gtt/zLuRPAHoekmTbV/XRCFDErWf/Fr9WZVvL4JRflELah3bqyQdR3aSHg7MtH2vpNOA+bZnk10Tv0DSUrKaz7S07r2SLgXuI2tOO9b2S5JeCVyZXU5nBPBT29emXZ4LrEfWLAdwm+2jbT+RAtk8sma8q23/qpnjAW5KDyRtQ9bD76uSdkz7+9d621G9vgWSngY2Irv+s5IGh9tupZ6eHs+bN79+xg4UAai+gf6M4uRa32D+jIYN04I612Xq6tl5Z8//yU/q5tOkSf3e11AhaRjwFtu31MtbtwZke51xfVIPtpBTBJ++FfnZlPY9mE+yIXQa26vJrg/VledG1NMqloeR3cgUQtMefrhzAnMnlaXTxOcS2inPfUBjJZXuol0P+DmwpK2lCkNap57UIhCFMLDydEL4KHBhCkL7kvVyaKbXRFeKE9rLBstnERff1xafR+iLpK2ATwDjKIsntj+WZ/0+A5CkPcoWvw38kKxd72ZJe5RGsg4hj1YHn97e6un57hmsL64PhZDLVcBvgeuBhof0qVUD+mbF8hNkg+h9k6z73jsa3VnoTv0NPn0Fm7x5+xOU4td/CDVtaPvzza5cKwCdAtza6jHguslgaXJqp2Y/g0aCTt5tNRuIIgh1sVGj4o9f2y8lHdTsEGq1OiF8mGyW0oslfUTSq5orX+hWzQSf3t7WBp9q225m+93+Y6Lbjz/06QSyIPRCmqqnoel6+qwB2T4aQNLryO5w/bGkTYEbgWuBW4ocxjt0tmaDz0Dp7W28RhQ1oRDWVu0+0UbkuRF1MbAYOEfSBmQ94Q4Hzgbizt+wjkaDz0AGnmr7bSQQRRAKYW2SDgHelhZvsv3LvOvm6Ya9hu3ngavTI9TQrU0WgyX4VJahVb3nQugmks4km9qhNN3DCZL+yfY6U45Xk+dG1BDaohOCT0kjZYkfFyGscRCwv+2ZtmeSjY59UN6VIwCFlmnkBNVJwackglAITdms7PWmjayYqwlO0quBCbavT9eBRth+upEdhVDSn+CT98Tf7HWaaI4LoSH/D/iDpBvJZkp4G3By3pXzDEb6CeAyspEQIJuN7+eNlzMMZXkDQ7NdoBsdp20gxnWLWlBohKQpkh6QtFTSOtdIJK0n6ZL0/u2SxpW9d3JKf0DSAWXpMyU9Jumeim1tIWmupCXpefOUvo+kJyUtTI8v9eeYbF9ENjndFenxFtsX510/TxPcscDewFNph0uArRsvaveIE1Pr9PezbCYQdWLzYBjcJA0Hvkt2S8tE4AhJEyuyHQk8YXtHsllKz0rrTiSbnG4Xsmss30vbA/hxSqt0EnCD7Qlk022XB7zf2t49PU6rsm6e43ldet4D2IZsqu+HgG0rhnGrKU8T3Iu2V5SmAEpzlcfoCGGNdtV+WhnIo/t0KNgkYKntBwEkXQxMJZvltGQq8OX0+jLg3DT32lTgYtsvAn9KM6ZOIhup5jflNaWKbe2TXs8im7m06SFzqvg34CjWHbINGhiqLU8N6GZJXwA2kLQ/8DPgF3lLGUIz2lGLbEcniW6r7Xbb8TZgtKT5ZY+jKt7fjqyGUNKb0qrmSVNePwlsmXPdSq+0/Uja1iOs3Wr1Fkl3SbpG0i45jm0dtkvHd6DtfcsfNNALLk8N6CSyquEi4JNk9wCd12iBQ3frlB5mURMKDRk5Em9b71wPwLI6U3JXm0W6siWprzx51s3rTuDVtp+RdBDZ9fwJTW4L4PdAZZNbtbSq8tSANgBm2j7c9mHAzJTWb/UuyoVQpLgWFFqoF9i+bHkMUPlTa02edKljU2B5znUrPSppm7StbYDHAGw/ZfuZ9PpqYKSk0Y0ejKRXSXoTWcvYGyXtkR77ABvm3U6eAHQDawecDcjmfuiXnBflQodrdW1lIJp4ohkpFGAeMEHSeEmjyDoVzK7IMxuYnl4fBvw6zUYwG5iWesmNJ6ux3FFnf+Xbmk42b08pcCi9nkQWA/7RxPEcAHyDLBieTXYt6Jtk14a+kHcjeZrg1i9FTIBUdcsd4WrIc1EuhBAGPdurJB0HzAGGk7Uq3SvpNGC+7dnA+cAFqZPBcrIgRcp3Kdm5cRVwbGkgaEkXkXU2GC2pFzjV9vnAmcClko4E/ko2fidkge0YSauA54FpzUy5Y3sWMEvSe2xf3sxnAvkC0LPlM6Cmatfzze6wTLULa3u1YLshhNBxUpPX1RVpXyp7/QIvB4rKdc8AzqiSfkQf+f8B7Fcl/Vzg3IYKXoPtyyW9i6yL+Ppl6bm6d+cJQCcCP5NUarjYBnhfowWtIteFtdSb5CiAsWPHtmC3IYQQWkHSD8iu+exL1jntMOo3D66RZzqGeemmo9eSBY3Ftlc2V9y15LqwZnsGMAOgp6cn7j8KIYTO8X9s7ybpbttfkfRNshERcsk7HcOewLiU/42SsP2Txsu6ljUX5YC/kbV3vr+f2wwhhDBwSpdjnpO0LVmHhvF5V64bgCRdALwGWAiUZkA10K8A1NdFuf5sMwy8bbdtba+yVm+vr32EEFril5I2A75Odo+RaeA+0Tw1oB5gYjM9JeqpdlEuhE4Ro2KHUJvt09PLyyX9kqzX9JN5188TgO4BXgU80kT5QgCyk3neGzvbWQuK2k8IrZPu53wXL1+iIV2iOTvP+nkC0GjgPkl3AC+WEm0f0nBpQ8ipHUGoHcGn2wJatx3vypVx43IdvwBeIBuqbXWjK+cJQF9udKOhu+QNFo3UghrZbt5tNSKa30LIZYzt3ZpdOU837Jub3Xi3GogL6d2iFZ9lBJ8Q2uYaSZNtX9fMynlmRH2zpHmSnpG0QtJLkp5qZmdh6Mp7km/m5L7tts01/TS7XiPbD6HL3QZcKel5SU9JerqR+JCnCe5csnt0fkbWI+7D9G/47tDlGm2KK6k84VfWjFoREKL2E0JDvgm8BVjUTE/pXDei2l4qaXgaAO9Hkn7f6I7C0NdIc1mzQahyf63USPCJ2k8IACwB7mn2Np08Aei5NHz4QklfI+uOvVEzOwuhXCuCUKtE8KmvW4871PQIcJOka1i7l3Subth55gP6UMp3HPAs2fht/9J4OUM3GIwX/DuhDCEMUn8imzNuFLBx2SOXPAHoUNsvpJn0vmL734CDmypqF+nmX4uDJQiNGdP4vrv57xraR9IWkuZKWpKeN+8j3/SUZ4mk6WXpb5K0KM0u/Z2ySedOl3S3pIWSrkvjtSHpdZJulfSipM9U7GMzSZdJWizpfklv6aMsw4FXpLiw1iPvcecJQNOrpH0k7w5Cd2omCA1kIGq2N14IbXIScIPtCWQ1ipMqM0jaAjiVbN60ScCpZYHq+2TT1kxIjykp/eu2d7O9O/BLoDT/0HLgU2Szmlb6NnCt7dcBbwDur1bg1CdgjwaPcy19XgOSdATZ6NTjJZVPHbsJzU3hGrpMM/fwlAJDu64NNRvkIviENptKNrMpwCzgJuDzFXkOAObaXg4gaS4wRdJNwCa2b03pPwEOBa6xXd4leiPSnGu2HwMeS5PJrSFpE+BtpEqG7RXAihrlXpjiw8/ILtGQ1ss1JUOtTgi/J7vANJqsq13J08DdeTbe7eKG1OY/g/JA0d9g1N+aVQSf+AxyGC1pftnyjDSXWV6vtP0IgO1HJG1dJU+1WaS3S4/eKukASDqD7PaZJ8kmjqtlB+Bxst7ObwAWACfYfraP/FuQVUjeUZZmcs4J1GcAsv0X4C+S3gk8b3u1pJ2A15GN+xNCLv0NxJUBpF5AamVTXpx4u9uKFbm/u8ts99TKIOl6soGdK52Sszh9zSJdc3Zp26cAp0g6mawz2ak19jGCrFnteNu3S/o2WXPgF6tltv3RnGXvc2f1/AZ4a2prvAGYTzYl9wf6s+PQXVpZGxyoa0URfEIr2X5nX+9JelTSNqn2sw3wWJVsvbzcTAfZLNI3pfQxFenV/tt+CvyK2gGoF+i1fXtavowq16PKyj0G+E9gb7Kg9zuyGlOudos8nRBk+zmyrtf/afvdwMQ8Gw9xEis3WD6Ldg/hM9jEZzEgZvNyh6/pwFVV8swBJkvaPFUIJgNzUtPd02nYNJE1t10FIKl81JpDgMW1CmH778BDkl6bkvYD7quxyo9S2bcla/b7RUrLJU8NSKkb3geAIxtYL4R1lE5mnXptLE62oSBnApdKOhL4K3A4gKQe4GjbH7e9XNLpwLy0zmmlDgnAMcCPgQ2Aa9ID4MwUTFYDfwGOTtt9FVlr1ibAakknkk08+hRwPHBhGoDgQaBWM9tWtssDzo/TtnLJE0hOBE4GrrR9r6QdgBvz7iCEajotEEXgqS4+l4Fh+x9ktY3K9PnAx8uWZwIz+8i3a5X09/Sxv7+zdrNd+XsLycb9zGOZpA8CF6XlI2igl3Te6RhuLlt+kKz/eMgpesP1rehAFCfYEPrlY2QDVp9Ddg3o9yktl1r3AX3L9omSfkFZj4qSmBE1tFJ5IGh3MIqgE0L/SDrL9ueBvfoTC2rVgC5Iz9XulA0NilpQfq0ORhFwmhOfW6jhIEn/QXZ55mfNbqTWfUAL0vPNkrZKrx9vdkchNCNOgiF0pGuBZcBGaQI68fI9Sba9SZ6N9NkNW5kvS1pG1nXvj5Iel/SlvtbJS9LX00B3d0u6UtJm/d1mCKF1IvCHWmx/1vamwK9sb2J74/LnvNupdR/QiWQ3F+1pe0vbm5MNgre3pE/3r/jMBXa1vRvwR7Jq3JAX/9QhhKHE9lRJr04j5iBpA0m5p2OodQ3ow8D+tpeV7ezB1OXuOrJeD80W+rqyxduAw5rd1mAT14JCp4sfSi9bubJzJk3sRJI+QTYK9xbAa8i6dv+AKl3Kq6lVAxpZHnxK0nWgkY0XtU8f4+WbpkIIIQwex5K1lD0FYHsJUG0g1apq1YBqDcFd6z2g9sB7tkvDRJwCrAIurLGdo8giLGPHjq2320EhakGhU0XtJzToRdsr0vx3SBpBldt2+lIrAL0h9W6oJGD9ehuuNfAeZDP7kc2sup/tPguchjSfAdDT05P7wEIIIbTdzZK+AGwgaX/gX8nGg8ulVjfs4S0oXFWSppBNtvT2NNBp14laUOg0UfsJTTiJbIzQRcAngauB8/KuXNSgoucC6wFzU9XtNttHF1SWELpeBJ/QjDRP3M+Bnzdzn2ghAcj2jkXst9NELSiEMBilaR9OJZvgTinpJbIpe07Lu5088wGFNopfnqFo8R0snqQtJM2VtCQ9b95Hvukpz5J0Hb2U/iZJiyQtlfSdFCCQdImkhenxZ0kLU/qksvS7JL07pb+2LH2hpKf6mF6h8j7RLWjiPtEIQCF0sQg+HeMk4AbbE8hmnl5nFlJJW5DVOvYCJgGnlgWq75P1Fp6QHlMAbL/P9u62dwcuB65I+e8BelL6FOCHkkbYfqAs/5uA54Arq5T3w8ARtv9USkgzJXwwvZdLBKAOECeBELreVGBWej0LOLRKngOAubaX236CbESZKWkK701s35p6FP+kcv1UI3ovad4e28/ZXpXeXp/qXaf3A/7H9l+qvNeS+0QjAHWICEJhoMV3rqO8Mk2tTXqudjPndsBDZcu9KW279LoyvdxbgUfTjaIASNpL0r1kPdiOLgtIJdN4eaK5Sv26T7QkptbuINEpIQyUCD4tN1rS/LLlGekexjVq3Zyfcx+qkuYa6eWOoCKY2L4d2EXSzsAsSdfYfiGVdRRwCH2P09mv+0RLIgB1mAhCod0i+OS3YkXu/8dltmtOY13r5nxJj0raxvYjqUntsSrZeoF9ypbHADel9DEV6WtKnUYn+BeyazrVynW/pGfJpvQuBdEDgTttP9rHOi25TzSa4ELoIhF8OtZsoNSrbTpwVZU8c4DJkjZPnQ8mA3NSk93Tkt6crvVkLacvAAAQYUlEQVR8uGL9dwKLba9pppM0PgUmJL0aeC3w57J11qkxtUMEoA4UJ4nQDvG96mhnAvtLWgLsn5aR1CPpPADby4HTgXnpcVpKAziGbASCpcD/sPYAz9Wu5fwTcFfqln0l8K+lTgWSNkxluII2iya4DhVNcSF0D9v/oMoUBrbnAx8vW54JzOwj3659bPsjVdIuAC7oI/9zwJY5i94vUQPqYPGLNbRKfJdCJ4oA1OHixBH6K75DoVNFABoE4gQSmhXfndDJIgANEnEiCY2K70zodBGABpE4oYS84rsSBoMIQINMnFhCLdtuG9+RMHhEABqE4gQTqonvRRhs4j6gQap0sol7hQJE8GmXlSuht7d+vtCcqAENcnHiCfEdCINVBKAhIE5A3Smu94TBLgLQEBEno+4Sf+swFEQAGmLixDT0xd84DBURgIagOEENTVHLDUNNBKAhKk5WQ0v8LcNQVGgAkvQZSZY0ushyDGURiAa3+Pt1B0lbSJoraUl63ryPfNNTniWSppelnyHpIUnPVOR/m6Q7Ja2SdFjFey9JWpges8vS90vrLJT0O0k7tvp4SwoLQJK2J5v06K9FlaGbxEls8Im/WVc5CbjB9gTghrS8FklbAKcCewGTgFPLAtUvUlqlvwIfAX5a5b3nbe+eHoeUpX8f+IDt3dN6/9HcIdVXZA3oHOBzgAssQ1eJX9ODQ/ydutJUYFZ6PQs4tEqeA4C5tpfbfgKYC0wBsH1bmpp7Lbb/bPtuYHUDZTGwSXq9KdC2290LGQlB0iHA32zflU1hXjPvUcBRAGPHjh2A0g19MYpCZ4qg09VeWQogth+RtHWVPNsBD5Ut96a0Zq0vaT6wCjjT9s9T+seBqyU9DzwFvLkf+6ipbQFI0vXAq6q8dQrwBWBynu3YngHMAOjp6YnaUgtFIOoMEXiGhNHpZF4yI5271qhzTsyj2q/1/pwTx9p+WNIOwK8lLbL9P8CngYNs3y7ps8DZlE0L3kptC0C231ktXdLrgfFAqfYzBrhT0iTbf29XeULfIhAVIwJP51u5Mvf/xTLbPbUy9HVOBJD0qKRtUu1nG+CxKtl6gX3KlscAN+UqXfXyPJyeH5R0E/BGSU8Bb7B9e8p2CXBts/uoZ8CvAdleZHtr2+NsjyP7UPeI4FO8uPYwMOJzDlXMBkq92qYDV1XJMweYLGnz1PlgckprWNrGeun1aGBv4D7gCWBTSTulrPsD9zezjzxiNOywjqgRtV4EnFDHmcClko4k67l2OICkHuBo2x+3vVzS6cC8tM5ptpenfF8D3g9sKKkXOM/2lyXtCVwJbA78s6Sv2N4F2Bn4oaTVZBWRM23fl7b1CeDy9N4TwMfaddCyB89llZ6eHs+bN79+xtByEYyaE4GnOMOGaUG9ZrF6Ro/u8bveVf+c85Of9H9f3ShqQCGX8hNpBKPaIuiEkE8EoNCwCEbriqATQuMiAIV+6eZgFEEnhP6JABRapvKEPNQCUgScEForAlBom8EekCLghNBeEYDCgOnrhF50YIpAE0IxIgCFwuUNAI0EqggqIXS+CEBh0IigEgbaihXQ21t0KYaumBE1hBBCISIAhRBCKEQEoBBCCIWIABRCCKEQEYBCCCEUIgJQCCGEQkQACiGEgknaQtJcSUvS8+Z95Jue8iyRNL0s/QxJD0l6piL/RyQ9Lmlhenw8pe9blrZQ0guSDk3vvUPSnZLukTRLUttu14kAFEIIxTsJuMH2BOCGtLwWSVsApwJ7AZOAU8sC1S9SWjWX2N49Pc4DsH1jKQ14B/AccJ2kYcAsYJrtXYG/8PJMrS0XASiEEIo3lezET3o+tEqeA4C5tpfbfgKYC0wBsH2b7Uea3PdhwDW2nwO2BF60/cf03lzgPU1ut64IQCGEULxXlgJIet66Sp7tgIfKlntTWj3vkXS3pMskbV/l/WnARen1MmBkmgocsuBUbZ2WiKF4QgihDytX5h6DcLSk8rm7Z9ieUZ5B0vXAq6qse0rO4qhKmuus8wvgItsvSjqarHb1jrIybQO8HpgDYNuSpgHnSFoPuA5YlbN8DYsAFEII/bfMdk+tDLbf2dd7kh6VtI3tR1JQeKxKtl5gn7LlMcBNdfb5j7LF/wLOqsjyXuBK2yvL1rkVeGsq12Rgp1r76I9oggshhOLN5uWL/dOBq6rkmQNMlrR56nwwOaX1KQWzkkOA+yuyHMHLzW+ldbZOz+sBnwd+kPMYGhYBKIQQincmsL+kJcD+aRlJPZJKPdeWA6cD89LjtJSGpK9J6gU2lNQr6ctpu5+SdK+ku4BPAR8p7VDSOLLrOzdXlOWzku4H7gZ+YfvXrT/cVAa7XhNim3YsHQ8cR9a++Cvbn6u3Tk9Pj+fNm18vWwghMGyYFtRrFqtngw16PG5c/XPO4sX931c3KuQakKR9ybod7pYujlXr8RFCCGEIK6oJ7hjgTNsvAtiudsEthBDCEFZUANoJeKuk2yXdLGnPvjJKOkrSfEnzH3/88QEsYgghhHZqWxNcnT7vI4DNgTcDewKXStrBVS5Ipb70MyC7BtSu8oYQQhhYbQtAdfq8HwNckQLOHZJWA6OBqOKEEEKXKKoJ7ueku3El7QSMIhsCIoQQQpcoaiSEmcBMSfcAK4Dp1ZrfQgghDF2FBCDbK4APFrHvEELIa8UK6O0tuhRDV4yEEEIIoRARgEIIIRQiAlAIIYRCRAAKIYRQiAhAIYQQChEBKIQQQiEiAIUQQsEkbSFprqQl6XnzPvJNT3mWSJqe0jaU9CtJi9PcP2eW5V9P0iWSlqaxN8eVvXdySn9A0gFl6VNS2lJJJ7XvqCMAhRBCJzgJuMH2BOCGtLwWSVsApwJ7AZOAU8sC1Tdsvw54I7C3pANT+pHAE7Z3BM4hTcktaSIwDdgFmAJ8T9JwScOB7wIHAhOBI1LetogAFEIIxZsKzEqvZwGHVslzADDX9nLbTwBzgSm2n7N9I6y5yf9OYEyV7V4G7CdJKf1i2y/a/hOwlCyoTQKW2n4wbevilLctIgCFEELxXmn7EYD0XG2Szu2Ah8qWe1PaGpI2A/6ZrBa11jq2VwFPAlvW2FbdfbRSUWPBNWXBggXLhg3TX1q0udF05gConVou6NyyRbka06nlgtaW7dX93cDq1QvmPPOMRufIur6k8rm7Z6SpZNaoM0VNHqqStmYMTUkjgIuA79h+sM46faVXq5S0bZzOQRWAbG/Vqm1Jmt+Jc7h3armgc8sW5WpMp5YLOq9stqe0cFu1pqh5VNI2th+RtA1QbZboXmCfsuUxwE1lyzOAJba/VbHO9kBvClCbAsvL0su39XB63Vd6y0UTXAghFG82MD29ng5cVSXPHGCypM1T54PJKQ1JXyULLifW2O5hwK/TzAOzgWmpl9x4YAJwBzAPmCBpvKRRZB0VZrfoGNcxqGpAIYQwRJ1JNjP0kcBfgcMBJPUAR9v+uO3lkk4nCxIAp6W0MWTNeIuBO7M+Bpxr+zzgfOACSUvJaj7TAGzfK+lS4D5gFXCs7ZfSPo8jC2zDgZm2723XQatbp+GRdFRlG20n6NRyQeeWLcrVmE4tF3R22ULrdW0ACiGEUKy4BhRCCKEQXR+AJB2fhp24V9LXii5POUmfkWQpVzfQtpP09TTcx92Srkz3HBRZngEbMqQRkraXdKOk+9P36oSiy1Qu3fH+B0m/LLosJZI2k3RZ+n7dL+ktRZcptF9XByBJ+5Ld5bub7V2AbxRcpDUkbQ/sT3ZBslPMBXa1vRvwR+Dkogoy0EOGNGgV8O+2dwbeDBzbQWUDOAG4v+hCVPg2cG0aTuYNdF75Qht0dQACjgHOtP0igO1qfe+Lcg7wOdp4E1ijbF+X7qYGuI2Xh/sowoAOGdII24/YvjO9fprsZNq2u8kbkXpMvQs4r+iylEjaBHgbWY8tbK+w/b/FlioMhG4PQDsBb02jxN4sac+iCwQg6RDgb7bvKrosNXwMuKbA/Q/okCHNSqMPvxG4vdiSrPEtsh82q4suSJkdgMeBH6WmwfMkbVR0oUL7Dfn7gOoMfzEC2JysmWRPsn74O3gAugbWKdcXyG4yG3C1ymX7qpTnFLJmpgsHsmwVag5L0gkkvQK4HDjR9lMdUJ6DgcdsL5C0T9HlKTMC2AM43vbtkr5NNhr0F4stVmi3IR+A6gx/cQxwRQo4d0haTTYW1eNFlUvS64HxwF3phrIxZDeXTbL996LKVVa+6cDBwH4DEahrqDWUSOEkjSQLPhfavqLo8iR7A4dIOghYH9hE0n/b/mDB5eoFem2XaomXUWU6gjD0dHsT3M+BdwBI2gkYRcGDNNpeZHtr2+NsjyP759xjIIJPPZKmAJ8HDrH9XMHFGdAhQxqRhrs/H7jf9tlFl6fE9sm2x6Tv1TSyYVmKDj6k7/ZDkl6bkvYju0M/DHFDvgZUx0xgpqR7gBXA9IJ/1Xe6c4H1gLmpdnab7aOLKIjtVQM5ZEiD9gY+BCyStDClfcH21QWWqdMdD1yYfkw8CHy04PKEARAjIYQQQihEtzfBhRBCKEgEoBBCCIWIABRCCKEQEYBCCCEUIgJQCCGEQkQACv0m6SVJC9PIz3dJ+jdJw9J7PZK+U2PdcZLeP3ClrVqGH0raW9JNaQbKEMIAiAAUWuF527unEcX3Bw4CTgWwPd/2p2qsOw4oNAABe5ENrhpCGEARgEJLpRHFjwKOU2af0rwzkt6eakoL06CTGwNnkg0Iu1DSp1ON6LeS7kyP/5PW3SfVUEpzxlyYRhxA0p6Sfp9qX3dI2jjNefN1SfPS/EWfrFZeSTsDf7T9UlnaMEmzJH01LT8j6SxJCyRdL2lSKsuDaeDYEEITun0khNAGth9MTXBbV7z1GeBY27ekgTpfIBvz6zO2DwaQtCGwv+0XJE0ALgJKzWJvBHYhG/PtFmBvSXcAlwDvsz0vDe3/PHAk8KTtPSWtB9wi6Trbf6oo04HAtWXLI8gGWb3H9hkpbSPgJtufl3Ql8FWymt5EYBYdMgRQCINNBKDQLtVGq74FOFvShWSDwPamSky5kcC5knYHXiKbMqPkDtu9AGmIm3HAk8AjtucBlEadljQZ2E3SYWndTYEJQGUAOoC1h335IXBpWfCBbJimUpBaBLxoe6WkRakMIYQmRBNcaDlJO5AFj7Um+LN9JvBxYAPgNkmvq7L6p4FHyWbF7CEbILbkxbLXL5H9gBLVp2EQ2fD+u6fHeNvXVZRzQ2Az2+WjaP8e2FfS+mVpK8vGCFxdKoft1cSPuBCaFgEotJSkrYAfAOdWDuwq6TVptO+zgPnA64CngY3Lsm1KVqNZTTag5/A6u1wMbFuaTDBd/xlBNkjpMWlaBCTtVGWSs32BGyvSzgeuBn6WthNCaJP4BwutsEFqEhtJNlHdBUC1aQhOlLQvWe3lPrIZVVcDqyTdBfwY+B5wuaTDyYLDs7V2bHuFpPcB/ylpA7LrP+8km3J6HNlcSiKb4+nQitUPJJt7pnKbZ0vaFLhA0gfqH34IoRkxGnboWpLuBPayvbLosoTQjSIAhRBCKERcAwohhFCICEAhhBAKEQEohBBCISIAhRBCKEQEoBBCCIWIABRCCKEQEYBCCCEU4v8DgFqLidSYAX8AAAAASUVORK5CYII=\n"
                        },
                        "metadata": {
                            "needs_background": "light"
                        }
                    }
                ]
            }
        },
        "0274c87ed58c4f3aa418741cba8d9a87": {
            "model_name": "LayoutModel",
            "model_module": "@jupyter-widgets/base",
            "model_module_version": "1.1.0",
            "state": {}
        },
        "76f4b44b85dd45899b0a2b248fc38695": {
            "model_name": "SliderStyleModel",
            "model_module": "@jupyter-widgets/controls",
            "model_module_version": "1.4.0",
            "state": {
                "description_width": ""
            }
        },
        "72e1afb17b2f470e817ab3b4091a3d29": {
            "model_name": "FloatSliderModel",
            "model_module": "@jupyter-widgets/controls",
            "model_module_version": "1.4.0",
            "state": {
                "description": "M",
                "layout": "IPY_MODEL_0274c87ed58c4f3aa418741cba8d9a87",
                "max": 0.3936,
                "step": 0.01,
                "style": "IPY_MODEL_76f4b44b85dd45899b0a2b248fc38695",
                "value": 0.26
            }
        },
        "9a2fd8f30e8c48e5a90d9cea65bf797c": {
            "model_name": "LayoutModel",
            "model_module": "@jupyter-widgets/base",
            "model_module_version": "1.1.0",
            "state": {}
        },
        "bb61763f16924da2b7e4fa11f3da488e": {
            "model_name": "VBoxModel",
            "model_module": "@jupyter-widgets/controls",
            "model_module_version": "1.4.0",
            "state": {
                "_dom_classes": [
                    "widget-interact"
                ],
                "children": [
                    "IPY_MODEL_72e1afb17b2f470e817ab3b4091a3d29",
                    "IPY_MODEL_ab69563829e94fbd8a58ee5b0076d1a1"
                ],
                "layout": "IPY_MODEL_9a2fd8f30e8c48e5a90d9cea65bf797c"
            }
        },
        "fa58da75b14945f2a10fd5e10166c54c": {
            "model_name": "LayoutModel",
            "model_module": "@jupyter-widgets/base",
            "model_module_version": "1.1.0",
            "state": {}
        },
        "ab69563829e94fbd8a58ee5b0076d1a1": {
            "model_name": "OutputModel",
            "model_module": "@jupyter-widgets/output",
            "model_module_version": "1.0.0",
            "state": {
                "layout": "IPY_MODEL_fa58da75b14945f2a10fd5e10166c54c",
                "outputs": [
                    {
                        "output_type": "display_data",
                        "data": {
                            "text/plain": "<Figure size 432x288 with 2 Axes>",
                            "image/png": "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\n"
                        },
                        "metadata": {
                            "needs_background": "light"
                        }
                    }
                ]
            }
        },
        "204cc30de47f48ae96c845f9d3b0b923": {
            "model_name": "LayoutModel",
            "model_module": "@jupyter-widgets/base",
            "model_module_version": "1.1.0",
            "state": {}
        },
        "50fb6d71bab44bc4971adb75d39220ba": {
            "model_name": "SliderStyleModel",
            "model_module": "@jupyter-widgets/controls",
            "model_module_version": "1.4.0",
            "state": {
                "description_width": ""
            }
        },
        "9bfaf2b3417a4208860679ebae848814": {
            "model_name": "FloatSliderModel",
            "model_module": "@jupyter-widgets/controls",
            "model_module_version": "1.4.0",
            "state": {
                "description": "M",
                "layout": "IPY_MODEL_204cc30de47f48ae96c845f9d3b0b923",
                "max": 0.3936,
                "step": 0.01,
                "style": "IPY_MODEL_50fb6d71bab44bc4971adb75d39220ba",
                "value": 0.21
            }
        },
        "369693a153ab4fcbbdeee0d1c96dbc55": {
            "model_name": "LayoutModel",
            "model_module": "@jupyter-widgets/base",
            "model_module_version": "1.1.0",
            "state": {}
        },
        "729e9418c7094478b1a455d1329c082b": {
            "model_name": "VBoxModel",
            "model_module": "@jupyter-widgets/controls",
            "model_module_version": "1.4.0",
            "state": {
                "_dom_classes": [
                    "widget-interact"
                ],
                "children": [
                    "IPY_MODEL_9bfaf2b3417a4208860679ebae848814",
                    "IPY_MODEL_a05dbbc176684f10b2d397712f73a396"
                ],
                "layout": "IPY_MODEL_369693a153ab4fcbbdeee0d1c96dbc55"
            }
        },
        "e1327a29cfc0482ca8941b9fc16637cd": {
            "model_name": "LayoutModel",
            "model_module": "@jupyter-widgets/base",
            "model_module_version": "1.1.0",
            "state": {}
        },
        "a05dbbc176684f10b2d397712f73a396": {
            "model_name": "OutputModel",
            "model_module": "@jupyter-widgets/output",
            "model_module_version": "1.0.0",
            "state": {
                "layout": "IPY_MODEL_e1327a29cfc0482ca8941b9fc16637cd",
                "outputs": [
                    {
                        "output_type": "display_data",
                        "data": {
                            "text/plain": "<Figure size 432x288 with 2 Axes>",
                            "image/png": "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\n"
                        },
                        "metadata": {
                            "needs_background": "light"
                        }
                    }
                ]
            }
        },
        "d6b9b3548f6f425293607f7b5c0fd0a0": {
            "model_name": "LayoutModel",
            "model_module": "@jupyter-widgets/base",
            "model_module_version": "1.1.0",
            "state": {}
        },
        "e06ecf58d3d64a3d9ad4e49d90be71fb": {
            "model_name": "SliderStyleModel",
            "model_module": "@jupyter-widgets/controls",
            "model_module_version": "1.4.0",
            "state": {
                "description_width": ""
            }
        },
        "04facd31597949439f1c955dd3ee3e03": {
            "model_name": "FloatSliderModel",
            "model_module": "@jupyter-widgets/controls",
            "model_module_version": "1.4.0",
            "state": {
                "description": "M",
                "layout": "IPY_MODEL_d6b9b3548f6f425293607f7b5c0fd0a0",
                "max": 0.3936,
                "step": 0.01,
                "style": "IPY_MODEL_e06ecf58d3d64a3d9ad4e49d90be71fb",
                "value": 0.21
            }
        },
        "d7a0b961b7894321bb59d7fcc21a53f4": {
            "model_name": "LayoutModel",
            "model_module": "@jupyter-widgets/base",
            "model_module_version": "1.1.0",
            "state": {}
        },
        "ec2c5c51916e406b81e13a101de039b1": {
            "model_name": "VBoxModel",
            "model_module": "@jupyter-widgets/controls",
            "model_module_version": "1.4.0",
            "state": {
                "_dom_classes": [
                    "widget-interact"
                ],
                "children": [
                    "IPY_MODEL_04facd31597949439f1c955dd3ee3e03",
                    "IPY_MODEL_4de2b4533f024c1ca3641c5cd7fc751a"
                ],
                "layout": "IPY_MODEL_d7a0b961b7894321bb59d7fcc21a53f4"
            }
        },
        "56f2f0e30cf648c59daf616c9db2f68a": {
            "model_name": "LayoutModel",
            "model_module": "@jupyter-widgets/base",
            "model_module_version": "1.1.0",
            "state": {}
        },
        "4de2b4533f024c1ca3641c5cd7fc751a": {
            "model_name": "OutputModel",
            "model_module": "@jupyter-widgets/output",
            "model_module_version": "1.0.0",
            "state": {
                "layout": "IPY_MODEL_56f2f0e30cf648c59daf616c9db2f68a",
                "outputs": [
                    {
                        "output_type": "display_data",
                        "data": {
                            "text/plain": "<Figure size 432x288 with 2 Axes>",
                            "image/png": "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\n"
                        },
                        "metadata": {
                            "needs_background": "light"
                        }
                    }
                ]
            }
        },
        "1d10e81e3d2543a59eb665b5b279ff17": {
            "model_name": "LayoutModel",
            "model_module": "@jupyter-widgets/base",
            "model_module_version": "1.1.0",
            "state": {}
        },
        "b257503135614387b3ace44c7f846e87": {
            "model_name": "SliderStyleModel",
            "model_module": "@jupyter-widgets/controls",
            "model_module_version": "1.4.0",
            "state": {
                "description_width": ""
            }
        },
        "f784846684c14c4db2500b40d58f0c71": {
            "model_name": "FloatSliderModel",
            "model_module": "@jupyter-widgets/controls",
            "model_module_version": "1.4.0",
            "state": {
                "description": "Water_Lake / GT",
                "layout": "IPY_MODEL_1d10e81e3d2543a59eb665b5b279ff17",
                "max": 0.3936,
                "step": 0.01,
                "style": "IPY_MODEL_b257503135614387b3ace44c7f846e87",
                "value": 0.24
            }
        },
        "cf2f2581c0bd4220a28faa1ffcd81ac5": {
            "model_name": "LayoutModel",
            "model_module": "@jupyter-widgets/base",
            "model_module_version": "1.1.0",
            "state": {}
        },
        "a750576f04e241b7b3642d2430d01bbd": {
            "model_name": "VBoxModel",
            "model_module": "@jupyter-widgets/controls",
            "model_module_version": "1.4.0",
            "state": {
                "_dom_classes": [
                    "widget-interact"
                ],
                "children": [
                    "IPY_MODEL_f784846684c14c4db2500b40d58f0c71",
                    "IPY_MODEL_01041d5f2f5d4942ad47d201008448ec"
                ],
                "layout": "IPY_MODEL_cf2f2581c0bd4220a28faa1ffcd81ac5"
            }
        },
        "698c764edffe4c44a4c5bfa19f90a790": {
            "model_name": "LayoutModel",
            "model_module": "@jupyter-widgets/base",
            "model_module_version": "1.1.0",
            "state": {}
        },
        "01041d5f2f5d4942ad47d201008448ec": {
            "model_name": "OutputModel",
            "model_module": "@jupyter-widgets/output",
            "model_module_version": "1.0.0",
            "state": {
                "layout": "IPY_MODEL_698c764edffe4c44a4c5bfa19f90a790",
                "outputs": [
                    {
                        "output_type": "display_data",
                        "data": {
                            "text/plain": "<Figure size 432x288 with 2 Axes>",
                            "image/png": "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\n"
                        },
                        "metadata": {
                            "needs_background": "light"
                        }
                    }
                ]
            }
        },
        "04e48bd11a864af389fde52a074e4541": {
            "model_name": "LayoutModel",
            "model_module": "@jupyter-widgets/base",
            "model_module_version": "1.1.0",
            "state": {}
        },
        "6122d773f9e64fff84759f1129b1eca3": {
            "model_name": "SliderStyleModel",
            "model_module": "@jupyter-widgets/controls",
            "model_module_version": "1.4.0",
            "state": {
                "description_width": ""
            }
        },
        "cf1d4cd5c247476b9c7dfc1ba26a5dd9": {
            "model_name": "FloatSliderModel",
            "model_module": "@jupyter-widgets/controls",
            "model_module_version": "1.4.0",
            "state": {
                "description": "Mass / GT",
                "layout": "IPY_MODEL_04e48bd11a864af389fde52a074e4541",
                "max": 0.3936,
                "step": 0.01,
                "style": "IPY_MODEL_6122d773f9e64fff84759f1129b1eca3",
                "value": 0.31
            }
        },
        "038b8fc870c043388722250a96db2366": {
            "model_name": "LayoutModel",
            "model_module": "@jupyter-widgets/base",
            "model_module_version": "1.1.0",
            "state": {}
        },
        "cfa04c9d7cbb411d9a6de1aa5b90386b": {
            "model_name": "VBoxModel",
            "model_module": "@jupyter-widgets/controls",
            "model_module_version": "1.4.0",
            "state": {
                "_dom_classes": [
                    "widget-interact"
                ],
                "children": [
                    "IPY_MODEL_cf1d4cd5c247476b9c7dfc1ba26a5dd9",
                    "IPY_MODEL_53e54a760e5a41818d54fe8a4a50816b"
                ],
                "layout": "IPY_MODEL_038b8fc870c043388722250a96db2366"
            }
        },
        "d477aa5447da4dea9b17e8804842cea4": {
            "model_name": "LayoutModel",
            "model_module": "@jupyter-widgets/base",
            "model_module_version": "1.1.0",
            "state": {}
        },
        "53e54a760e5a41818d54fe8a4a50816b": {
            "model_name": "OutputModel",
            "model_module": "@jupyter-widgets/output",
            "model_module_version": "1.0.0",
            "state": {
                "layout": "IPY_MODEL_d477aa5447da4dea9b17e8804842cea4",
                "outputs": [
                    {
                        "output_type": "display_data",
                        "data": {
                            "text/plain": "<Figure size 432x288 with 2 Axes>",
                            "image/png": "iVBORw0KGgoAAAANSUhEUgAAAYMAAAEKCAYAAADw2zkCAAAABHNCSVQICAgIfAhkiAAAAAlwSFlzAAALEgAACxIB0t1+/AAAADl0RVh0U29mdHdhcmUAbWF0cGxvdGxpYiB2ZXJzaW9uIDIuMi4zLCBodHRwOi8vbWF0cGxvdGxpYi5vcmcvIxREBQAAIABJREFUeJzt3X20XHV97/H3R5IIKBE1sCImEqggRUVNA0q5rcqDRaVgrVRpVSpe01KloLXKw7WtVlufinJL79IsDVLlan0ArBZBaIW2KEiAKCCIltYaIRdOWwsIkkA+94+9jxkO58zsedx7Zj6vtc5KZs/svb9nzszvs3/74bdlm4iImG6PqruAiIioX8IgIiISBhERkTCIiAgSBhERQcIgIiJIGEREBAmDiIggYRAREcCiugvoxhOfuMx77rmq7jIiYgxcf/21M7Z362cZRy5a5JkKozRcu23bJbaP7GdddRurMNhzz1VcccWGusuIiDGwdKl+0O8yZmw27Lxzx9fp3nuX9buuumU3UUREJAwiIiJhEBERJAwiIoKEQUREkDCIiAgSBhERIyFpvaQ7Jd3YMu3Zkq6StFHSBkkH1VVfwiAiYjQ+Acy9MO39wDttPxv4o/JxLRIGEREjYPsfgf+cOxlYWv7/ccDtIy2qxVhdgRwR0VDLJLUOj7DO9roK850CXCLpgxQb5784lOoqqDUMJO0KfAx4BkVCnmD7G3XWFBHxM4sXwx57dH7drbfO2F7TwxpOBN5s+wuSfgP4OHB4D8vpW927ic4CLra9H/As4Oaa64mIGKXjgfPL/38OmL4DyJKWAr9MkYTY3mL7x3XVExFRg9uB55f/PxT4Xl2F1LmbaG/gLuAcSc8CrgVOtv2TGmuKiBgKSZ8GXkBxfGET8MfAG4CzJC0Cfgqsrau+OsNgEbAaOMn21ZLOAk4F3tH6IklrKd+glSufMvIiIyIGwfZxCzz1CyMtZAF1HjPYBGyyfXX5+PMU4fAwttfZXmN7zbJlfd2nIiIiFlBbGNjeDPxQ0tPKSYcB36mrnoiIaVb3dQYnAedJWgLcBryu5noiIqZSrWFgeyPQy7m5ERExQHVfZxAREQ2QMIiIiNqPGURENNfixbB8eefX3Xrr8GsZsvQMIiIiYRAREQmDiIggYRARESQMIiKChEFERJAwiIgIEgYREUHCICIiyBXI0WC33z7Y5VW5r3nEwyxePDUfnIRB1GbQjX2/65uS73zEvBIGMRKjbvh7MV+NCYiYFgmDGLhxaPirSkDEtEgYxEBMUgB00vq7JhhiUiQMoifT1Pi3k2CISZEwiMoSAO0lGGKc5TqD6Oj22xME3Zp9z/K+xSxJ6yXdKenGlmkfkHSLpG9LukDSrnXVlzCIeaUxG5y8l1H6BHDknGmXAs+wfQBwK3DaqIualTCIh0mjNVx5f6eX7X8E/nPOtK/afrB8eBWwYuSFlWo/ZiBpB2AD8CPbR9Vdz7RKAzVas+93ji1EixOAv6lr5bWHAXAycDOwtO5CplFCoF4JhYZbsqTqH2eZpA0tj9fZXld1NZLOAB4EzuuywoGpNQwkrQBeCrwHeEudtUybhECzJBTG3oztNb3MKOl44CjgMNsebFnV1d0z+DDwNmCXmuuYGgmBZksoTBdJRwJvB55v+746a6ntALKko4A7bV/b4XVrJW2QtGFm5q4RVTd5cuByvOTvNXkkfRr4BvA0SZskvR44m2Jj+FJJGyV9pK766uwZHAIcLeklwI7AUkmfsv3q1heV+93WAaxevaa2LtS4SoMy3m6/Pb2ESWH7uHkmf3zkhSygtp6B7dNsr7C9CngV8A9zgyD6kyCYDOklxCjkOoMJlMZjMuVvGsNU9wFkAGxfDlxecxkTIQ3GZMsB5hiW9AwmRHoD0yV/6xi0hMEESMMwnbIBEIOUMBhzaQwin4EYhEYcM4jepBGIWTkFdUgWL56aNzY9gzGU3QMxn3wmoh8JgzGTL3y0kw2F6FXCYIzkSx5V5bMS3UoYjIl8uaNb+cxENxIGYyBf6uhVPjtRVcKg4fJljn7lMxRVJAwaLF/iGJR8lqKThEFD5csbg5bPVLSTMGigfGljWPLZioXkCuSGyZc1InolaVfgtcAqWtp327/fad6EQYMkCGIUMnRFF8ZvOIqLgKuAG4Bt3cyYMIiYQgmEibWj7bf0MmOOGTREegUxavnMTaRPSnqDpCdJesLsT5UZEwYNkC9l1CWfvYmzBfgA8A3g2vJnQ5UZs5uoZvkydm/z5vbPL18+mjoiGugtwFNtz3Q7Y8IgGqlTg9/rvAmKR8rxg4lyE3BfLzMmDGqUXkGhn4a/33UlHAoJhInxELBR0teAB2Yn5tTSBpv2IBhlALSTcNgugTBc5TUAHwOeARg4wfY3BryaC8ufrtUWBpJWAn8NLKc4H3ad7bPqqidGoykhsJDZ+qY5FGJozgIutv0KSUuAnQe9Atvn9jpvnT2DB4E/sH2dpF2AayVdavs7NdY0EtPWK2h6AMxnWkMhvYPhkLQU+GXgtwFsb6E482fQ6zkK+FNgT4r2XcXqvLTTvLWFge07gDvK/98j6WbgycBEh8E0BcE4hsBc0xoK0bVlklpP4Vxne13L472Bu4BzJD2L4pTPk23/ZMB1fBh4OXCDbXczYyOOGUhaBTwHuLreSmIQJiEE5pqmUEjvoMXixVX/6DO217R5fhGwGjjJ9tWSzgJOBd4xgCpb/RC4sdsgmC2wrX66HVVIeizwBeAU23fP8/xaYC3AypVPGcQqazMNvYJJDIJW0xIKCYSB2wRssj27wft5ijAYtLcBF0m6goefTXRmpxmrXIH8YeB44Im2l9reZYBBsJgiCM6zff58r7G9zvYa22uWLdttEKuNIdi8efKDoNW0/b7RH9ubgR9Kelo56TCGs0v8PRTXGewI7NLy01GV3UQ9dzvakSTg48DNVVJr3E1yr2CaG8XNmye3l5DewcCdBJxXnkl0G/C6IazjCbZf1MuMVcKg525HB4cArwFukLSxnHa67Yv6XG6M0DQHwaxJDoQYHNsbgXbHFQbhMkkvsv3VbmesEgbvAe6l6HYs6XYFC7H9zxTHHybeJPYK6gyBTu9nHVuzkxoI6R2MnTcCb5P0ALCVAZ9a2nO3IybTqIKg1xBdaL5hN2rTcnA5mst2peMD86kSBj13O2LyegXDDoJhvl+tyx5mMExqLyEmW5Wzid4IXCzpfkl3S7pH0iNOAY3JN6wguP327T+jMuz1TdKxlEnboIn5dewZzNftKM8Eig4m6Us0jMatCe/PbA3D6CmkhxDjpGPPQNK75jx+FPCpoVUUjTPoIBh1L6CKJtbUJHlvmk3SBklnSTpS0o69LKPKMYOnSDrN9p9LejTwOeC6XlYWMeiDwp10u8U/6J5CegdjbvHicTmd6nnA/wCOBN4p6T+AS4Cv2L61ygKqhMHrKC6UOA14YbnwD/VY8NSYlC2pQfUKenk/BvEe9nrQeJCnVCYQYthsPwhcXv4g6UnAi4F3S3oqcJXt32u3jAXDQNLqlodnAR8FrgSukLTadnoHE66OIKjy2l6vM+g2GAbZS5iEQMg1B+OjHBV6PbC+3LV/cKd52vUM/mLO4/8C9i+nGzi0xzpjDIw6CNq9rtsewtzXz9eAddPQpxGMcWZ7G8WGfFvtwuAM4BuDHpNoGkzKLqJ+9bOVP8j3sF2PoGpDP4hAmITeQUyudmHwWuBsSbcCF1Pcrm2Czp6OhQyiV9BrEAyyh1C1R1C1l5BASC9pki0YBrZ/F0DSfhQHIj4h6XHA1yjC4UrbD42kyhgrvQTBMHoI3fYIqjR0aQyjySTtBrwBWEVL+277hE7zVrno7BbgFuBDknaiOKPoWOBMhj8CX4xYv72CQQXBoHe1Ve0RjKKxH/feQTTaF4F/Ai4DutpY7+q2l7bvBy4qf2IeOV7QXqcgGPb7VyUAOgVCegfRYDvbfnsvM1YZmyimxLB7BXUHwSBrSehHQ31Z0kt6mbGrnkFErwYRBN2EVZXdMJ16BMPsAYzzrqL0jBrtZOB0SVso7mcAA7yfAZL2BPaxfVl53GCR7Xt6LjcmTjdnAXUbBL30WFrnadfo9hMAaRSnwJIlY/VH7ud+BlUGqnsD8HmKK5ABVgAX9rrCaKa6blgzjCDodhntasruoBg3ko6W9MHy56iq81W9n8EhwN0Atr8H7N5bmTGJer02oN1zmzcPNqC6DYSq+gmLSbrnQTSDpPdS7Cr6Tvlzcjmtoyph8IDtLS0rW0QxHEXMka3I9qpucQ+rkexmuekdxJh6CXCE7fW211OMYlrpgHKVMLhC0unATpKOoBjC+ks9lxpTo5dGdNhby+2Wn0Y/JsSuLf9/XNWZqoTBqcBdwA3A71BcY/C/uiotGq2fBriXgejqbnR7+X3rrjmioj8Hrpf0CUnnAtcCf1ZlxiphsBOw3vaxtl9BMSzqTj2X2qK8K893JX1f0qmDWGaMrybsQ+8ltKYxKKbxd+7XKNo725+muNHN+eXPwbY/U2XeKmHw9zy88d+J4lLnvkjaAfgrinGP9geOk7R/v8uNqKIJwQPNqSOGa9jtXTmG3Ox9aJ4EbAJ+COwx5940C6pyncGOtu+dfWD7Xkk791DvXAcB37d9G4CkzwDHUBwBj4iYJMNu794CrOWR96GBivefqRIGP2m9s5mkXwDu76bKBTyZIrlmbQKeO4DlRgNkN0LEwwy1vbO9tvzvi23/tPU5STtWWUaVMDgF+Jyk2a/3k4BXVq5yYZpn2iNOWZW0liLxWLnyKQNYbUTEwC2TtKHl8Trb61oeV2rvBuDrwNzdQvNNe4QqQ1hfU+6PehrFL3SL7a0dZqtiE7Cy5fEK4BHbk+Ubug5g9eo1ub4hIkZmG4/iHiqN8DBju92Q/pXau15JWk7R+9hJ0nPYHj5LgUq79asOVHcg22+W8BxJ2P7r7sp9hGuAfSTtBfwIeBXwm30uMxpijz2yqyiixbDbu18BfpsiZM5smX4PcHqVBXQMA0mfBH4O2Mj2myUY6CsMbD8o6U3AJcAOFKev3tTPMiOqasqIoU2pI4Zr2O2d7XOBcyX9uu0v9LKMKj2DNcD+tge+i8Z2bpQTP7N8ef2nWo7RAJW1yvvUvVG0d7a/IOmlwNOBHVumv6vTvFWuM7gRyPbLBBvF1mlr41F3Q1L1961ac92/T8QsSR+hOMHnJIrjBscCe1aZt0oYLAO+I+kSSX87+9NztTFRBt1I1rnbJI16TIBftP1a4L9svxM4mIcfuF5Qld1Ef9JHYVMlB03ba31/2r1Xw9xd1EuvIGKMzF4Ddp+kPYD/APaqMmOVU0uv6KOwmALtGvZenxt0IHQKgV57OP2ERg4exxB8WdKuwAeA6yhO9vlYlRmr3OnseZKukXSvpC2SHpJ0d3/1RtOMqmHqpvFcvnwwdXUbBE06vhHRDdt/avvH5RlFewL72X5HlXmr7CY6m+Kc2M9RnFn0WmCfXouN6TO3B1B1d9Gs2ca8255ClSBpFwTdzhtRt3JAvJey/bowyuvCzmw3H1S86Mz29yXtYPsh4BxJX++j3phAnRr1XncXtZrbuM8Nh257EZ2CYJiNfXYRjYctW8buOOCXgJ9S3H9mWzczVgmD+yQtATZKej9wB/CYrkuMxut3P303gTBfbwG6++L106D2GwTT3CuY5t99DKywfUAvM1Y5tfQ15eveBPyE4jSll/eysmmQL0p1e+wx2q3xqutMEMQY+4qkF/UyY5UweJntn9q+2/Y7bb8FOKqXlUXz9bv7okpDWqUxHnSDu9AyRx1GkF1EMVRXARdIul/S3ZLuqXrCT5UwOH6eab/dTXUxXao0qFUCYHZaPw10uxDoJQjSK4iG+wuKC812tr3U9i62l1aZccFjBpKOoxhVb685VxwvpbiQISbUIM7xr3JQeL7XLHTsYFCN8ELLGVUQjHuvIGHYeN8DbuxlLLl2B5C/TnGweBkPv5XaPcC3u13RNMmVyIWqgQDVQ6GfWrqZ3uvr2hn3IIixcAdwuaSvAA/MTuzr1FLbPwB+IOlw4H7b2yTtC+xHcdpSTLBBXQFcNRir9giqhsMgDwJnazjGyL+WP0vKn8qqnFr6j8AvSXo88PfABopR8X6ryyJjzIw6EGZfC+2vSei3lmG8tpNJ6BUkFJutvODssbb/sJf5q4SBbN8n6fXAX9p+v6Tre1nZNMmuoofrdrdPa8PTz/vYawOWIIhxY/shSR3vdbyQSmEg6WCKnsDru5gvJsCgB4zrJSRHvUWaLeAYYxvLE34+R3FdGAC2z+80Y5VG/RTgNOAC2zdJ2hv4Wq+VxvgZRiBA83pOwwiBSekVTGtAbt1a/933uvQEirM9D22ZZqD/MCiHsL6i5fFtwO93X+P0maRdRcO4x0BTQmFYDd2kBEGMD9uv63XedtcZfNj2KZK+RJEsc1d6dK8rjfE0rJvO1BEKw97STRBEHSStAP4SOISi3f5n4GTbmzrN265n8Mny3w/2XeEUm6TeAQz3LmS9nkba6/KHZdKCYFp3EY2pc4D/S3HvY4BXl9OO6DRju+sMri3/vULSbuX/7+q71Bh7wwyEVv2EQ10N2KQFQYyd3Wyf0/L4E5JOqTJju91EAv6YYrRSAY+S9CDF6aXv6qdaSR8AfhXYAvwL8DrbP+5nmU02ab0DGF0gtGryFuqkhkCT3/OY14ykVwOfLh8fR8Xhg9oNVHcKxX6nA20/0fbjgecCh0h6cz/VApcCzyjH3b6V4mylGDODui3luMt7EA1yAvAbwGaKoSleUU7rqF0YvBY4zva/zk4ozyR6dflcz2x/1faD5cOrgBX9LG8cTPIW1jQ3hpP8u0/yZ7aJJJ0k6buSbipvJNbNvO8r//tc20fb3s327rZfVg4t1FG7MFhse2buxPK4weJuCu3gBOArA1xe1GDaegnT9vvGcEl6IXAMcIDtp9P9iTsvkbSYPvaytDubaEuPzwEg6TJgvq/LGba/WL7mDOBB4Lw2y1kLrAVYufIpnVbbaJN47GCuOo4ljNo0hEB6BSN3IvBe2w8A2L6zy/kvBmaAx5Q3sxHFqaUqFtf5ngbtwuBZC9whR8COnRZs+/B2z0s6nuKOaYe1G3vb9jpgHcDq1Wu6HqM7Rm+2sZy0UJiGEIja7EsxIOh7KG5o/1bb11SduRyc7g8lfdH2Mb0U0O7U0h16WWAVko4E3g483/Z9w1pPE01D72DWpITCtIVAegXbbd1a+fu6TNKGlsfryg3Zn2m3t4SiLX488DzgQOCzkvbu9iY1to+RtCewj+3LJO0ELLJ9T6d56xpw7mzg0cClxRmsXGX7d2uqJYZsXENh2kIAEgR9mLG9pt0L2u0tkXQicH7Z+H9T0jaKG4t1dW2XpDdQ7FZ/AvBzFCfnfAQ4rNO8tYSB7afWsd6mmKbeQavWxrWpwTCNARCNcCHF4HKXlzcRW0JxDKBbbwQOAq4GsP09SbtXmTFDUddkWgNhVpOCIQFQSK+gVuuB9ZJupDhB5/he7mMMPGB7S7nHBUmLmGdsufkkDKJ2cxvjYYdDGv9HShDUy/YWimu4+nWFpNOBnSQdAfwe8KUqMyYMajTtvYOFLNRYdxsSafRjCp1KcROyG4DfAS4CPlZlxoRBzRII1aVxH470CiaH7W2SLgQu7HZg0XZXIMeI5MsYdclnbzKo8CeSZoBbgO9KukvSH1VdRsIgYkolCCbK3IFFn0CXA4smDBoiX8wYpXzeJk7fA4smDBokX9CI6FHfA4vmAHLD5IByDFs2OqrrYjiKuvU1sCgkDBopgRDDkiCYWH0NLAoJg8ZKIMSgJQgm1yAGFs0xgwbLlzcGJZ+l6CRh0HD5Eke/8hmKKhIGYyBf5uhVPjtRVcJgTORLHd3KZya6kTAYI/lyR1X5rES3EgZjJl/y6CSfkehFwmAM5cse89ljj3w2oncJgzGVL360ymch+pWLzsZcLk6LBMHwjNFwFH1Lz2ACpDGYTukdxiAlDCZEGobpkr91DFrCYMKkkZh8+RvHMNQaBpLeKsmSltVZx6RJL2Ey5e8aw1RbGEhaCRwB/HtdNUy6NByTI3/LGLY6ewYfAt4GuMYaJl62Jsdb/n4xKrWEgaSjgR/Z/laF166VtEHShpmZu0ZQ3WRKozJe8veaLpKOlXSTpG2S1rRMP0LStZJuKP89dFg1DO06A0mXAcvneeoM4HTgRVWWY3sdsA5g9eo16UX0KdclNFsCYGrdCLwc+Oic6TPAr9q+XdIzgEuAJw+jgKGFge3D55su6ZnAXsC3JAGsAK6TdJDtzcOqJ7abbXASCs2REJhutm8GKNvE1unXtzy8CdhR0qNtPzDoGkZ+BbLtG4DdZx9L+jdgje2ZUdcy7RIK9UsITIxlkja0PF5X7tUYpF8Hrh9GEECGowge3iAlGEYjITAetmyp/J2Ysb2m3Qva7Tq3/cUO8z4deB8Vd6/3ovYwsL2q7hpiu/QWhishML0W2nXeiaQVwAXAa23/y2Cr2q72MIhmSigMTgIgeiVpV+DvgNNsXznMdWU4imhr9hTHNGjdy/sWVUn6NUmbgIOBv5N0SfnUm4CnAu+QtLH82X3BBfUhPYOoLMcWOkvjH72wfQHFrqC5098NvHsUNSQMoicJhu0SADEJEgbRt7mN4aSHQxr/mEQJgxi4SQuHNP4xDRIGMXTzNaZNDYg0/DGtEgZRi3aN7jCDIo19xPwSBtE4abAjRi9hEBGxgK1bYfOUDJ+Zi84iIiJhEBERCYOIiCBhEBERJAwiIoKEQUREkDCIiAgSBhERQcIgIiJIGEREBBmOIiJiQVu3NneE3UFLzyAiIuoLA0knSfqupJskvb+uOiIioqbdRJJeCBwDHGD7AUm711FHREQU6uoZnAi81/YDALbvrKmOiIigvjDYF/glSVdLukLSgQu9UNJaSRskbZiZuWuEJUZETI+hhYGkyyTdOM/PMRS7px4PPA/4Q+CzkjTfcmyvs73G9pply3YbVrkREbWRdGx5/HSbpDUt0xdLOlfSDZJulnTasGoY2jED24cv9JykE4HzbRv4pqRtwDIgm/4RMY1uBF4OfHTO9GOBR9t+pqSdge9I+rTtfxt0AXXtJroQOBRA0r7AEmCmploiImpl+2bb353vKeAxkhYBOwFbgLuHUUNdYbAe2FvSjcBngOPLXkJERGz3eeAnwB3AvwMftP2fw1hRLaeW2t4CvLqOdUdEVNXFFcjLJG1oebzO9rrWF0i6DFg+z7xn2P7iAss9CHgI2IPiOOs/SbrM9m2VqupChqOIiOjfjO017V7Q7jhqG78JXGx7K3CnpCuBNcDAwyDDUURENNe/A4eq8BiKMzBvGcaKEgYRETWT9GuSNgEHA38n6ZLyqb8CHktxttE1wDm2vz2MGrKbKCKiZrYvAC6YZ/q9FKeXDl16BhERkTCIiIiEQUREkDCIiAgSBhERQcIgIiIAjdOQQJLuAn4woMUto5mD4zW1LmhubamrO02tCwZb2562+xr3XtLFFDV1MmP7yH7WVbexCoNBkrSh0+XjdWhqXdDc2lJXd5paFzS7tkmX3UQREZEwiIiI6Q6DdZ1fUoum1gXNrS11daepdUGza5toU3vMICIitpvmnkFERJSmPgwknSTpu5JukvT+uutpJemtkiypyqltQyfpA5JukfRtSRdI2rXmeo4s/3bfl3RqnbW0krRS0tck3Vx+rk6uu6ZWknaQdL2kL9ddyyxJu0r6fPn5ulnSwXXXNG2mOgwkvRA4BjjA9tOBD9Zc0s9IWgkcQXFzi6a4FHiG7QOAW4HT6ipE0g4UY72/GNgfOE7S/nXVM8eDwB/Y/nmKm5G8sUG1AZwM3Fx3EXOcRXFHr/2AZ9G8+ibeVIcBcCLwXtsPANi+s+Z6Wn0IeBvQmIM6tr9q+8Hy4VXAihrLOQj4vu3byntqf4Yi2Gtn+w7b15X/v4eiYXtyvVUVJK0AXgp8rO5aZklaCvwy8HEo7pFu+8f1VjV9pj0M9gV+SdLVkq6QdGDdBQFIOhr4ke1v1V1LGycAX6lx/U8GftjyeBMNaXBbSVoFPAe4ut5KfubDFBsZ2+oupMXewF3AOeXuq4+Vt3iMEZr4O51JugxYPs9TZ1D8/o+n6MofCHxW0t4ewSlWHeo6HXjRsGuYT7u6bH+xfM0ZFLtCzhtlbXNonmmN6UUBSHos8AXgFNt3N6Ceo4A7bV8r6QV119NiEbAaOMn21ZLOAk4F3lFvWdNl4sPA9uELPSfpROD8svH/pqRtFOOQ3FVXXZKeCewFfEsSFLtirpN0kO3NddXVUt/xwFHAYaMIzTY2AStbHq8Abq+plkeQtJgiCM6zfX7d9ZQOAY6W9BJgR2CppE/ZfnXNdW0CNtme7T19niIMYoSmfTfRhcChAJL2BZZQ8wBetm+wvbvtVbZXUXxRVo8iCDqRdCTwduBo2/fVXM41wD6S9pK0BHgV8Lc11wSAihT/OHCz7TPrrmeW7dNsryg/V68C/qEBQUD52f6hpKeVkw4DvlNjSVNp4nsGHawH1ku6EdgCHF/z1m7TnQ08Gri07LVcZft36yjE9oOS3gRcAuwArLd9Ux21zOMQ4DXADZI2ltNOt31RjTU13UnAeWWw3wa8ruZ6pk6uQI6IiKnfTRQRESQMIiKChEFERJAwiIgIEgYREUHCIAZA0kOSNpYjdH5L0lskPap8bo2k/91m3lWSfnN01c5bw0clHSLpckm5/25MpYRBDML9tp9djvx6BPAS4I8BbG+w/ftt5l0F1BoGwHMpBt6LmFoJgxiocuTXtcCbVHjB7Lj5kp5f9iA2lgOS7QK8l2KwwI2S3lz2FP5J0nXlzy+W876g3HKfHfP+vPJKXyQdKOnrZa/km5J2Kcfs/4Cka8r7L/zOfPVK+nngVtsPtUx7lKRzJb27fHyvpPdJulbSZZIOKmu5rRxUMGLsTfsVyDEEtm8rdxPtPueptwJvtH1lOYjbTynGoHmr7aMAJO0MHGH7p5L2AT4NzO66eQ7wdIoxiK4EDpH0TeBvgFfavqYcDvl+4PXAf9s+UNKjgSslfdX2v86p6cXAxS2PF1EMwHej7feU0x4DXG777ZIuAN5N0QPaHzhA1aXWAAABvklEQVSXhgyDEdGPhEEMy3yjil4JnCnpPIoBAjeVG/etFgNnS3o28BDFMOOzvml7E0A5zMMq4L+BO2xfAzA7OqikFwEHSHpFOe/jgH2AuWHwKzx86IOPAp9tCQIohiqZDYwbgAdsb5V0Q1lDxNjLbqIYOEl7UzTkD7tZkO33Av8T2Am4StJ+88z+ZuD/Udztag3F4IGzHmj5/0MUGzNi/qGrRTEk8rPLn71sf3VOnTsDu9puHe3068ALJe3YMm1ry5hV22brsL2NbFDFhEgYxEBJ2g34CHD23EH/JP1cOSrr+4ANwH7APcAuLS97HMWW/jaKwd526LDKW4A9Zm9MVB4vWEQxgN2J5VDSSNp3nhumvBD42pxpHwcuAj5XLidiKuTDHoOwU7nbZjHFTW8+Ccw3dPMpKu47/RDFEMVfodjSflDSt4BPAP8H+IKkYyka6p+0W7HtLZJeCfylpJ0ojhccTnFbx1UU94IQxT0qXjZn9hdTjJ0/d5lnSnoc8ElJv9X5148Yfxm1NKaWpOuA59reWnctEXVLGERERI4ZREREwiAiIkgYREQECYOIiCBhEBERJAwiIoKEQUREAP8fW9SvqytJeIwAAAAASUVORK5CYII=\n"
                        },
                        "metadata": {
                            "needs_background": "light"
                        }
                    }
                ]
            }
        }
    }
}
</script>
</head>
<body>

<script type="application/vnd.jupyter.widget-view+json">
{
    "version_major": 2,
    "version_minor": 0,
    "model_id": "cfa04c9d7cbb411d9a6de1aa5b90386b"
}
</script>

</body>
</html>
