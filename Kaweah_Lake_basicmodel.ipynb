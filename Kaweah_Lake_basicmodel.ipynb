{
 "cells": [
  {
   "cell_type": "markdown",
   "metadata": {},
   "source": [
    "# Earth's Elastic Response to a Circular Load (eg Kaweah Lake)\n",
    "\n",
    "This notebook does the quick analytic solution of circular loading, intended to represent the situation at Kaweah Lake.\n",
    "\n",
    "## Theory\n",
    "\n",
    "For a disk load of unit weight (force), the solution from Farrell 72 is:\n",
    "    \n",
    "\\begin{equation}\n",
    "u(0,r) =\n",
    "    \\begin{cases}\n",
    "    -\\frac{\\sigma}{\\pi^2\\mu\\eta \\alpha} E\\big(\\frac{r}{\n",
    "    \\alpha} \\big) & r < \\alpha \\\\\n",
    "    -\\frac{\\sigma r}{\\pi^2\\mu\\eta \\alpha^2} \\Big\\lbrack E\\big(\\frac{\\alpha}{\n",
    "    r}\\big) - \\big( 1 - \\frac{\\alpha^2}{r^2} K\\big(\\frac{\\alpha}{r}\\big) \\Big\\rbrack & r > \\alpha\n",
    "    \\end{cases}\n",
    "\\end{equation}\n",
    "\n",
    "where $E(x)$ and $K(x)$ are the complete elliptic integrals, which are a special function commonly tabulated (and included in scipy). As for constants, $\\mu$ is the shear modulus, $\\lambda$ is Lame's first parameter, $\\eta = \\mu + \\lambda$ and $\\alpha$ is the disk radius.\n"
   ]
  },
  {
   "cell_type": "code",
   "execution_count": 30,
   "metadata": {},
   "outputs": [],
   "source": [
    "#!/usr/bin/env python3\n",
    "# -*- coding: utf-8 -*-\n",
    "\n",
    "import numpy as np\n",
    "from scipy import special\n",
    "import matplotlib.pyplot as plt\n",
    "import seaborn as sns\n",
    "\n",
    "g = 9.81\n",
    "lamda_gran = 25*10**9\n",
    "mew_gran = 40*10**9\n",
    "g = 9.81\n",
    "alpha_Kaweah=1.25*10**3\n",
    "M_kaweah = 0.1968\n",
    "\n",
    "def calc_deformation_2Ddisk(M):\n",
    "    ''' Calculates the deformation for a disk of mass M and radius alpha, on top of a substrate with Lame parameter lambda and shear modulus mew. R should be a meshgrid(r).'''\n",
    "    x = np.linspace(-7*10**3,7*10**3,num=1000)\n",
    "    X,Y= np.meshgrid(x,x)\n",
    "    R = np.sqrt(X**2 + Y**2)\n",
    "\n",
    "    M = M*10**12\n",
    "    \n",
    "    lamda = 25*10**9\n",
    "    mew = 40*10**9\n",
    "    g = 9.81\n",
    "    alpha=1.25*10**3\n",
    "\n",
    "    sigma=lamda+2*mew\n",
    "    nabla=lamda + mew\n",
    "    \n",
    "    defm=np.zeros_like(R)\n",
    "        \n",
    "    defm[R<=alpha]=-M*g* (sigma/(np.pi**2 * mew * nabla * alpha) * special.ellipe((R[np.less_equal(R,alpha)]/alpha)**2) )\n",
    "    \n",
    "    defm[R>=alpha]= -M *g* (sigma* R[np.greater_equal(R,alpha)] / (np.pi**2 * mew * nabla * alpha**2)) * (special.ellipe((alpha/R[np.greater_equal(R,alpha)])**2) - (1 - (alpha/R[np.greater_equal(R,alpha)])**2) * special.ellipk((alpha/R[np.greater_equal(R,alpha)])**2)) \n",
    "    \n",
    "    plt.figure()\n",
    "    plt.contourf(X/1000,Y/1000,defm*1000,cmap='bwr', levels=np.linspace(-20,20,num=21))\n",
    "    cbar=plt.colorbar()\n",
    "    cbar.set_label('Deformation / mm')\n",
    "    plt.xlabel('Distance /km')\n",
    "    plt.ylabel('Distance /km')\n",
    "\n",
    "    plt.show()\n",
    "\n"
   ]
  },
  {
   "cell_type": "code",
   "execution_count": 33,
   "metadata": {},
   "outputs": [
    {
     "data": {
      "text/html": [
       "\n",
       "<style>\n",
       "    div#notebook-container    { width: 95%; }\n",
       "    div#menubar-container     { width: 65%; }\n",
       "    div#maintoolbar-container { width: 99%; }\n",
       "</style>\n"
      ],
      "text/plain": [
       "<IPython.core.display.HTML object>"
      ]
     },
     "metadata": {},
     "output_type": "display_data"
    },
    {
     "data": {
      "application/vnd.jupyter.widget-view+json": {
       "model_id": "cfa04c9d7cbb411d9a6de1aa5b90386b",
       "version_major": 2,
       "version_minor": 0
      },
      "text/plain": [
       "interactive(children=(FloatSlider(value=0.1968, description='Mass / GT', max=0.3936, step=0.01), Output()), _d…"
      ]
     },
     "metadata": {},
     "output_type": "display_data"
    },
    {
     "data": {
      "text/plain": [
       "<function __main__.calc_deformation_2Ddisk(M)>"
      ]
     },
     "execution_count": 33,
     "metadata": {},
     "output_type": "execute_result"
    }
   ],
   "source": [
    "%matplotlib inline\n",
    "from ipywidgets import interact_manual\n",
    "from ipywidgets import interact, interactive, fixed, interact_manual\n",
    "import ipywidgets as widgets\n",
    "\n",
    "from IPython.display import display, HTML\n",
    "\n",
    "display(HTML(data=\"\"\"\n",
    "<style>\n",
    "    div#notebook-container    { width: 95%; }\n",
    "    div#menubar-container     { width: 65%; }\n",
    "    div#maintoolbar-container { width: 99%; }\n",
    "</style>\n",
    "\"\"\"))\n",
    "\n",
    "\n",
    "interactive_plot = interact(calc_deformation_2Ddisk, M=widgets.FloatSlider(min=0,max=2*M_kaweah,value=M_kaweah,step=0.01, description=\"Mass / GT\"))\n",
    "\n",
    "display(interactive_plot)"
   ]
  }
 ],
 "metadata": {
  "kernelspec": {
   "display_name": "Python 3",
   "language": "python",
   "name": "python3"
  },
  "language_info": {
   "codemirror_mode": {
    "name": "ipython",
    "version": 3
   },
   "file_extension": ".py",
   "mimetype": "text/x-python",
   "name": "python",
   "nbconvert_exporter": "python",
   "pygments_lexer": "ipython3",
   "version": "3.7.1"
  }
 },
 "nbformat": 4,
 "nbformat_minor": 2
}
